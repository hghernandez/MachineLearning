{
 "cells": [
  {
   "cell_type": "markdown",
   "metadata": {},
   "source": [
    "### En este script pruebo el modelo entrenado:\n",
    "\n",
    "1. Armo un data frame con las fechas desde hoy y hasta fin de mes\n",
    "2. Creo el valor de Año, Mes y Semana\n",
    "3. Pruebo el modelo\n"
   ]
  },
  {
   "cell_type": "code",
   "execution_count": 1,
   "metadata": {},
   "outputs": [],
   "source": [
    "#Importo las librerias\n",
    "\n",
    "import numpy as np\n",
    "import pandas as pd\n",
    "from datetime import date, timedelta, datetime\n",
    "from math import ceil"
   ]
  },
  {
   "cell_type": "code",
   "execution_count": 2,
   "metadata": {},
   "outputs": [],
   "source": [
    "#Fijo la fecha de hoy como inicio\n",
    "\n",
    "#start = date.today()\n",
    "\n",
    "start= date(2023,2,1)\n",
    "\n",
    "#Traigo el día 1 del mes siguiente\n",
    "next_month = start.replace(day=28) + timedelta(days=4)\n",
    "\n",
    "#Calculo el fin de mes\n",
    "\n",
    "end_month = next_month - timedelta(days=next_month.day)\n",
    "\n",
    "#Armo una secuencia de fechas entre hoy y el fin de mes\n",
    "fechas = pd.date_range(start,end_month)\n",
    "\n",
    "#Convierto el archivo en data frame\n",
    "fechas = fechas.to_frame(index=False, name= 'Fechas')\n",
    "\n"
   ]
  },
  {
   "cell_type": "code",
   "execution_count": 3,
   "metadata": {},
   "outputs": [],
   "source": [
    "#Creo una función para calcular la semana del mes. Las funciones por default calcular la semana del año.\n",
    "\n",
    "def week_of_month(dt):\n",
    "    \"\"\" Retorna la semana del mes para una fecha especificada.\n",
    "    \"\"\" \n",
    "    \n",
    "    # Fijo el dia inicial del mes\n",
    "    first_day = dt.replace(day=1)\n",
    "    # Seteo el dia de la semana de la fecha especificada\n",
    "    dom = dt.day\n",
    "    \n",
    "    # Sumo  el dia de la semana de la fecha especificada + el valor de dia de la semana\n",
    "    adjusted_dom = dom + first_day.weekday()\n",
    "\n",
    "    # Dvido por 7 y redondeo\n",
    "    return int(ceil(adjusted_dom/7.0))"
   ]
  },
  {
   "cell_type": "code",
   "execution_count": 4,
   "metadata": {
    "scrolled": true
   },
   "outputs": [],
   "source": [
    "#Creo los parámetros del modelo: Año, Mes y Semana\n",
    "\n",
    "fechas['Año'] = pd.DatetimeIndex(fechas['Fechas']).year\n",
    "\n",
    "fechas['Mes'] = pd.DatetimeIndex(fechas['Fechas']).month\n",
    "\n",
    "fechas['Semana']=fechas['Fechas'].apply(week_of_month)\n",
    "\n",
    "fechas = fechas.drop(['Fechas'],axis= 1)\n",
    "\n"
   ]
  },
  {
   "cell_type": "code",
   "execution_count": 5,
   "metadata": {
    "scrolled": true
   },
   "outputs": [
    {
     "data": {
      "text/html": [
       "<div>\n",
       "<style scoped>\n",
       "    .dataframe tbody tr th:only-of-type {\n",
       "        vertical-align: middle;\n",
       "    }\n",
       "\n",
       "    .dataframe tbody tr th {\n",
       "        vertical-align: top;\n",
       "    }\n",
       "\n",
       "    .dataframe thead th {\n",
       "        text-align: right;\n",
       "    }\n",
       "</style>\n",
       "<table border=\"1\" class=\"dataframe\">\n",
       "  <thead>\n",
       "    <tr style=\"text-align: right;\">\n",
       "      <th></th>\n",
       "      <th>Año</th>\n",
       "      <th>Mes</th>\n",
       "      <th>Semana</th>\n",
       "    </tr>\n",
       "  </thead>\n",
       "  <tbody>\n",
       "    <tr>\n",
       "      <th>0</th>\n",
       "      <td>2023</td>\n",
       "      <td>2</td>\n",
       "      <td>1</td>\n",
       "    </tr>\n",
       "    <tr>\n",
       "      <th>5</th>\n",
       "      <td>2023</td>\n",
       "      <td>2</td>\n",
       "      <td>2</td>\n",
       "    </tr>\n",
       "    <tr>\n",
       "      <th>12</th>\n",
       "      <td>2023</td>\n",
       "      <td>2</td>\n",
       "      <td>3</td>\n",
       "    </tr>\n",
       "    <tr>\n",
       "      <th>19</th>\n",
       "      <td>2023</td>\n",
       "      <td>2</td>\n",
       "      <td>4</td>\n",
       "    </tr>\n",
       "    <tr>\n",
       "      <th>26</th>\n",
       "      <td>2023</td>\n",
       "      <td>2</td>\n",
       "      <td>5</td>\n",
       "    </tr>\n",
       "  </tbody>\n",
       "</table>\n",
       "</div>"
      ],
      "text/plain": [
       "     Año  Mes  Semana\n",
       "0   2023    2       1\n",
       "5   2023    2       2\n",
       "12  2023    2       3\n",
       "19  2023    2       4\n",
       "26  2023    2       5"
      ]
     },
     "execution_count": 5,
     "metadata": {},
     "output_type": "execute_result"
    }
   ],
   "source": [
    "#Por último me quedo con valores únicos\n",
    "\n",
    "fechas = fechas.drop_duplicates(subset=['Año','Mes','Semana'])\n",
    "fechas"
   ]
  },
  {
   "cell_type": "code",
   "execution_count": 6,
   "metadata": {},
   "outputs": [],
   "source": [
    "import pickle\n",
    "\n",
    "#Plantamos la semilla aleatoria\n",
    "\n",
    "np.random.seed(123)\n",
    "\n",
    "filename = 'ut_BancoEstado.pkl'\n",
    "\n",
    "loaded_model = pickle.load(open(filename, 'rb'))\n",
    "\n",
    "ut_predichos = loaded_model.predict(fechas)\n",
    "\n",
    "fechas[\"UT\"] = np.around(ut_predichos,decimals=2)\n"
   ]
  },
  {
   "cell_type": "code",
   "execution_count": 7,
   "metadata": {},
   "outputs": [
    {
     "data": {
      "text/html": [
       "<div>\n",
       "<style scoped>\n",
       "    .dataframe tbody tr th:only-of-type {\n",
       "        vertical-align: middle;\n",
       "    }\n",
       "\n",
       "    .dataframe tbody tr th {\n",
       "        vertical-align: top;\n",
       "    }\n",
       "\n",
       "    .dataframe thead th {\n",
       "        text-align: right;\n",
       "    }\n",
       "</style>\n",
       "<table border=\"1\" class=\"dataframe\">\n",
       "  <thead>\n",
       "    <tr style=\"text-align: right;\">\n",
       "      <th></th>\n",
       "      <th>Año</th>\n",
       "      <th>Mes</th>\n",
       "      <th>Semana</th>\n",
       "      <th>UT</th>\n",
       "    </tr>\n",
       "  </thead>\n",
       "  <tbody>\n",
       "    <tr>\n",
       "      <th>0</th>\n",
       "      <td>2023</td>\n",
       "      <td>2</td>\n",
       "      <td>1</td>\n",
       "      <td>19029.990234</td>\n",
       "    </tr>\n",
       "    <tr>\n",
       "      <th>5</th>\n",
       "      <td>2023</td>\n",
       "      <td>2</td>\n",
       "      <td>2</td>\n",
       "      <td>7405.000000</td>\n",
       "    </tr>\n",
       "    <tr>\n",
       "      <th>12</th>\n",
       "      <td>2023</td>\n",
       "      <td>2</td>\n",
       "      <td>3</td>\n",
       "      <td>3816.260010</td>\n",
       "    </tr>\n",
       "    <tr>\n",
       "      <th>19</th>\n",
       "      <td>2023</td>\n",
       "      <td>2</td>\n",
       "      <td>4</td>\n",
       "      <td>2121.000000</td>\n",
       "    </tr>\n",
       "    <tr>\n",
       "      <th>26</th>\n",
       "      <td>2023</td>\n",
       "      <td>2</td>\n",
       "      <td>5</td>\n",
       "      <td>1265.369995</td>\n",
       "    </tr>\n",
       "  </tbody>\n",
       "</table>\n",
       "</div>"
      ],
      "text/plain": [
       "     Año  Mes  Semana            UT\n",
       "0   2023    2       1  19029.990234\n",
       "5   2023    2       2   7405.000000\n",
       "12  2023    2       3   3816.260010\n",
       "19  2023    2       4   2121.000000\n",
       "26  2023    2       5   1265.369995"
      ]
     },
     "execution_count": 7,
     "metadata": {},
     "output_type": "execute_result"
    }
   ],
   "source": [
    "fechas"
   ]
  },
  {
   "cell_type": "markdown",
   "metadata": {},
   "source": [
    "### Obtenemos métricas de error usando datos reales como validación"
   ]
  },
  {
   "cell_type": "code",
   "execution_count": 8,
   "metadata": {},
   "outputs": [],
   "source": [
    "#Importo las librerias\n",
    "\n",
    "import pyodbc\n",
    "import os\n",
    "\n",
    "user = os.environ['USER_DW']\n",
    "passw = os.environ['PASS_DW']\n",
    "server = '10.0.55.50'\n",
    "database = 'bi-test'\n",
    "\n",
    "conn = pyodbc.connect('Driver={SQL Server};'\n",
    "                    'Server='+server+';'\n",
    "                     'Database=bi-test;'\n",
    "                     'Trusted_Connection=no;'\n",
    "                     'Integrated_Security=false;'\n",
    "                     'UID='+user+';'\n",
    "                     'PWD='+passw+';')"
   ]
  },
  {
   "cell_type": "code",
   "execution_count": 9,
   "metadata": {
    "scrolled": true
   },
   "outputs": [
    {
     "name": "stderr",
     "output_type": "stream",
     "text": [
      "C:\\ProgramData\\Anaconda3\\lib\\site-packages\\pandas\\io\\sql.py:762: UserWarning: pandas only support SQLAlchemy connectable(engine/connection) ordatabase string URI or sqlite3 DBAPI2 connectionother DBAPI2 objects are not tested, please consider using SQLAlchemy\n",
      "  warnings.warn(\n"
     ]
    },
    {
     "data": {
      "text/html": [
       "<div>\n",
       "<style scoped>\n",
       "    .dataframe tbody tr th:only-of-type {\n",
       "        vertical-align: middle;\n",
       "    }\n",
       "\n",
       "    .dataframe tbody tr th {\n",
       "        vertical-align: top;\n",
       "    }\n",
       "\n",
       "    .dataframe thead th {\n",
       "        text-align: right;\n",
       "    }\n",
       "</style>\n",
       "<table border=\"1\" class=\"dataframe\">\n",
       "  <thead>\n",
       "    <tr style=\"text-align: right;\">\n",
       "      <th></th>\n",
       "      <th>Project_Name</th>\n",
       "      <th>Tipo</th>\n",
       "      <th>Año</th>\n",
       "      <th>Mes</th>\n",
       "      <th>Semana</th>\n",
       "      <th>Cantidad</th>\n",
       "    </tr>\n",
       "  </thead>\n",
       "  <tbody>\n",
       "    <tr>\n",
       "      <th>0</th>\n",
       "      <td>Banco_Estado</td>\n",
       "      <td>UT</td>\n",
       "      <td>2023</td>\n",
       "      <td>2</td>\n",
       "      <td>1</td>\n",
       "      <td>19030</td>\n",
       "    </tr>\n",
       "    <tr>\n",
       "      <th>1</th>\n",
       "      <td>Banco_Estado</td>\n",
       "      <td>UT</td>\n",
       "      <td>2023</td>\n",
       "      <td>2</td>\n",
       "      <td>2</td>\n",
       "      <td>26435</td>\n",
       "    </tr>\n",
       "    <tr>\n",
       "      <th>2</th>\n",
       "      <td>Banco_Estado</td>\n",
       "      <td>UT</td>\n",
       "      <td>2023</td>\n",
       "      <td>2</td>\n",
       "      <td>3</td>\n",
       "      <td>30472</td>\n",
       "    </tr>\n",
       "    <tr>\n",
       "      <th>3</th>\n",
       "      <td>Banco_Estado</td>\n",
       "      <td>UT</td>\n",
       "      <td>2023</td>\n",
       "      <td>2</td>\n",
       "      <td>4</td>\n",
       "      <td>32593</td>\n",
       "    </tr>\n",
       "    <tr>\n",
       "      <th>4</th>\n",
       "      <td>Banco_Estado</td>\n",
       "      <td>UT</td>\n",
       "      <td>2023</td>\n",
       "      <td>2</td>\n",
       "      <td>5</td>\n",
       "      <td>33742</td>\n",
       "    </tr>\n",
       "  </tbody>\n",
       "</table>\n",
       "</div>"
      ],
      "text/plain": [
       "   Project_Name Tipo   Año  Mes  Semana  Cantidad\n",
       "0  Banco_Estado   UT  2023    2       1     19030\n",
       "1  Banco_Estado   UT  2023    2       2     26435\n",
       "2  Banco_Estado   UT  2023    2       3     30472\n",
       "3  Banco_Estado   UT  2023    2       4     32593\n",
       "4  Banco_Estado   UT  2023    2       5     33742"
      ]
     },
     "execution_count": 9,
     "metadata": {},
     "output_type": "execute_result"
    }
   ],
   "source": [
    "test = pd.read_sql_query(\"select * from VW_FIN_PROYECCION_METRICAS where Project_Name = 'Banco_Estado' and \\\n",
    "Año = '2023' and Mes = '2' and Tipo = 'UT'\", conn)\n",
    "\n",
    "test\n",
    "                         \n",
    "                        "
   ]
  },
  {
   "cell_type": "code",
   "execution_count": null,
   "metadata": {},
   "outputs": [],
   "source": [
    "#Desagrego los valores del dataframe test\n",
    "\n",
    "#Los datos de cantidad están agregados, por eso debo restar los valores semanales\n",
    "\n",
    "df['lag'] = df.groupby(['Año','Mes'])['Cantidad'].shift(1)\n",
    "df['Q_Mensual'] = df['Cantidad']-df['lag']\n",
    "\n",
    "df['Q_Mensual'] = np.where(\n",
    "    df['lag'].isnull(), \n",
    "    df['Cantidad'], df['Q_Mensual'])\n",
    "\n",
    "#Me quedo con ciertas variables\n",
    "\n",
    "df = df[['Project_Name','Tipo','Año','Mes','Semana','Q_Mensual']]\n",
    "df.rename(columns={'Q_Mensual':'Cantidad'}, inplace= True)\n",
    "\n",
    "df"
   ]
  },
  {
   "cell_type": "code",
   "execution_count": 33,
   "metadata": {},
   "outputs": [
    {
     "name": "stdout",
     "output_type": "stream",
     "text": [
      "RMSE\n",
      "--------------------------------------------\n",
      "El RMSE obtenido es: 29.68\n",
      "--------------------------------------------\n"
     ]
    }
   ],
   "source": [
    "from sklearn.metrics import mean_squared_error\n",
    "from math import sqrt #Para obtener la raiz cuadrada\n",
    "\n",
    "\n",
    "rmse = sqrt(mean_squared_error(test['Cantidad'], ut_predichos,squared=False))\n",
    "\n",
    "print(\"RMSE\")\n",
    "print(\"--------------------------------------------\")\n",
    "print(\"El RMSE obtenido es:\", round(rmse,2))\n",
    "print(\"--------------------------------------------\")\n"
   ]
  }
 ],
 "metadata": {
  "kernelspec": {
   "display_name": "Python 3",
   "language": "python",
   "name": "python3"
  },
  "language_info": {
   "codemirror_mode": {
    "name": "ipython",
    "version": 3
   },
   "file_extension": ".py",
   "mimetype": "text/x-python",
   "name": "python",
   "nbconvert_exporter": "python",
   "pygments_lexer": "ipython3",
   "version": "3.8.5"
  }
 },
 "nbformat": 4,
 "nbformat_minor": 5
}
