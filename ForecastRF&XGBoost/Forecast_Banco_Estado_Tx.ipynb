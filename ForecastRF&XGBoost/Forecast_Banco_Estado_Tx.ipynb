{
 "cells": [
  {
   "cell_type": "markdown",
   "id": "62607d73",
   "metadata": {},
   "source": [
    "### Entrenamiento de modelo de forecast semanal para Banco Estado: **Transacciones**"
   ]
  },
  {
   "cell_type": "markdown",
   "id": "00c1df82",
   "metadata": {},
   "source": [
    "Para este proyecto vamos a entrenar un modelo **Random Forest** y un modelo **XGBOOST**, ¿pero que representan estos modelos?"
   ]
  },
  {
   "cell_type": "markdown",
   "id": "269e783c",
   "metadata": {},
   "source": [
    "#### Evolución de los modelos de árboles de decisión"
   ]
  },
  {
   "cell_type": "code",
   "execution_count": 1,
   "id": "3e6da9b9",
   "metadata": {
    "scrolled": true
   },
   "outputs": [
    {
     "data": {
      "text/html": [
       "<img src=\"EvolucionDecisionTree.JPG\" width=\"450\" height=\"450\"/>"
      ],
      "text/plain": [
       "<IPython.core.display.Image object>"
      ]
     },
     "execution_count": 1,
     "metadata": {},
     "output_type": "execute_result"
    }
   ],
   "source": [
    "from IPython.display import Image\n",
    "Image(url=\"EvolucionDecisionTree.JPG\", width=450, height=450)"
   ]
  },
  {
   "cell_type": "markdown",
   "id": "ffad4f70",
   "metadata": {},
   "source": [
    "#### Decision Tree"
   ]
  },
  {
   "cell_type": "code",
   "execution_count": 2,
   "id": "350e1a2d",
   "metadata": {
    "scrolled": true
   },
   "outputs": [
    {
     "data": {
      "text/html": [
       "<img src=\"DecisionTree.png\" width=\"600\" height=\"500\"/>"
      ],
      "text/plain": [
       "<IPython.core.display.Image object>"
      ]
     },
     "execution_count": 2,
     "metadata": {},
     "output_type": "execute_result"
    }
   ],
   "source": [
    "Image(url=\"DecisionTree.png\", width=600, height=500)"
   ]
  },
  {
   "cell_type": "markdown",
   "id": "0100f583",
   "metadata": {},
   "source": [
    "#### Random Forest"
   ]
  },
  {
   "cell_type": "code",
   "execution_count": 3,
   "id": "fe18ecc5",
   "metadata": {
    "scrolled": true
   },
   "outputs": [
    {
     "data": {
      "text/html": [
       "<img src=\"RandomForest.png\" width=\"600\" height=\"500\"/>"
      ],
      "text/plain": [
       "<IPython.core.display.Image object>"
      ]
     },
     "execution_count": 3,
     "metadata": {},
     "output_type": "execute_result"
    }
   ],
   "source": [
    "Image(url=\"RandomForest.png\", width=600, height=500)"
   ]
  },
  {
   "cell_type": "markdown",
   "id": "e1d57d77",
   "metadata": {},
   "source": [
    "#### XGBoost\n"
   ]
  },
  {
   "cell_type": "code",
   "execution_count": 4,
   "id": "fcd1cb9f",
   "metadata": {},
   "outputs": [
    {
     "data": {
      "text/html": [
       "<img src=\"XGBoost.png\" width=\"600\" height=\"500\"/>"
      ],
      "text/plain": [
       "<IPython.core.display.Image object>"
      ]
     },
     "execution_count": 4,
     "metadata": {},
     "output_type": "execute_result"
    }
   ],
   "source": [
    "Image(url=\"XGBoost.png\", width=600, height=500)"
   ]
  },
  {
   "cell_type": "markdown",
   "id": "9ddb87bd",
   "metadata": {},
   "source": [
    "**Documentacion:** [link](\"https://towardsdatascience.com/xgboost-fine-tune-and-optimize-your-model-23d996fab663\")"
   ]
  },
  {
   "cell_type": "markdown",
   "id": "f3bd3a81",
   "metadata": {},
   "source": [
    "#### Me conecto al Data Warehouse\n"
   ]
  },
  {
   "cell_type": "code",
   "execution_count": 5,
   "id": "21ed8769",
   "metadata": {},
   "outputs": [],
   "source": [
    "#Importo las librerias\n",
    "\n",
    "import pyodbc\n",
    "import os\n",
    "import numpy as np\n",
    "import pandas as pd\n",
    "pd.options.mode.chained_assignment = None  # default='warn'\n",
    "import matplotlib.pyplot as plt\n",
    "\n",
    "user = os.environ['USER_DW']\n",
    "passw = os.environ['PASS_DW']\n",
    "server = '10.0.55.50'\n",
    "database = 'bi-test'\n",
    "\n",
    "conn = pyodbc.connect('Driver={SQL Server};'\n",
    "                    'Server='+server+';'\n",
    "                     'Database=bi-test;'\n",
    "                     'Trusted_Connection=no;'\n",
    "                     'Integrated_Security=false;'\n",
    "                     'UID='+user+';'\n",
    "                     'PWD='+passw+';')"
   ]
  },
  {
   "cell_type": "code",
   "execution_count": 6,
   "id": "e84c3678",
   "metadata": {
    "scrolled": true
   },
   "outputs": [
    {
     "name": "stderr",
     "output_type": "stream",
     "text": [
      "C:\\ProgramData\\Anaconda3\\lib\\site-packages\\pandas\\io\\sql.py:762: UserWarning: pandas only support SQLAlchemy connectable(engine/connection) ordatabase string URI or sqlite3 DBAPI2 connectionother DBAPI2 objects are not tested, please consider using SQLAlchemy\n",
      "  warnings.warn(\n"
     ]
    },
    {
     "name": "stdout",
     "output_type": "stream",
     "text": [
      "<class 'pandas.core.frame.DataFrame'>\n",
      "RangeIndex: 150 entries, 0 to 149\n",
      "Data columns (total 6 columns):\n",
      " #   Column        Non-Null Count  Dtype \n",
      "---  ------        --------------  ----- \n",
      " 0   Project_Name  150 non-null    object\n",
      " 1   Tipo          150 non-null    object\n",
      " 2   Año           150 non-null    int64 \n",
      " 3   Mes           150 non-null    int64 \n",
      " 4   Semana        150 non-null    int64 \n",
      " 5   Cantidad      150 non-null    int64 \n",
      "dtypes: int64(4), object(2)\n",
      "memory usage: 7.2+ KB\n"
     ]
    },
    {
     "data": {
      "text/html": [
       "<div>\n",
       "<style scoped>\n",
       "    .dataframe tbody tr th:only-of-type {\n",
       "        vertical-align: middle;\n",
       "    }\n",
       "\n",
       "    .dataframe tbody tr th {\n",
       "        vertical-align: top;\n",
       "    }\n",
       "\n",
       "    .dataframe thead th {\n",
       "        text-align: right;\n",
       "    }\n",
       "</style>\n",
       "<table border=\"1\" class=\"dataframe\">\n",
       "  <thead>\n",
       "    <tr style=\"text-align: right;\">\n",
       "      <th></th>\n",
       "      <th>Project_Name</th>\n",
       "      <th>Tipo</th>\n",
       "      <th>Año</th>\n",
       "      <th>Mes</th>\n",
       "      <th>Semana</th>\n",
       "      <th>Cantidad</th>\n",
       "    </tr>\n",
       "  </thead>\n",
       "  <tbody>\n",
       "    <tr>\n",
       "      <th>0</th>\n",
       "      <td>Banco_Estado</td>\n",
       "      <td>Tx</td>\n",
       "      <td>2021</td>\n",
       "      <td>12</td>\n",
       "      <td>5</td>\n",
       "      <td>2459794</td>\n",
       "    </tr>\n",
       "    <tr>\n",
       "      <th>1</th>\n",
       "      <td>Banco_Estado</td>\n",
       "      <td>Tx</td>\n",
       "      <td>2022</td>\n",
       "      <td>1</td>\n",
       "      <td>1</td>\n",
       "      <td>69723</td>\n",
       "    </tr>\n",
       "    <tr>\n",
       "      <th>2</th>\n",
       "      <td>Banco_Estado</td>\n",
       "      <td>Tx</td>\n",
       "      <td>2022</td>\n",
       "      <td>1</td>\n",
       "      <td>2</td>\n",
       "      <td>373935</td>\n",
       "    </tr>\n",
       "    <tr>\n",
       "      <th>3</th>\n",
       "      <td>Banco_Estado</td>\n",
       "      <td>Tx</td>\n",
       "      <td>2022</td>\n",
       "      <td>1</td>\n",
       "      <td>3</td>\n",
       "      <td>795834</td>\n",
       "    </tr>\n",
       "    <tr>\n",
       "      <th>4</th>\n",
       "      <td>Banco_Estado</td>\n",
       "      <td>Tx</td>\n",
       "      <td>2022</td>\n",
       "      <td>1</td>\n",
       "      <td>4</td>\n",
       "      <td>1212377</td>\n",
       "    </tr>\n",
       "    <tr>\n",
       "      <th>...</th>\n",
       "      <td>...</td>\n",
       "      <td>...</td>\n",
       "      <td>...</td>\n",
       "      <td>...</td>\n",
       "      <td>...</td>\n",
       "      <td>...</td>\n",
       "    </tr>\n",
       "    <tr>\n",
       "      <th>145</th>\n",
       "      <td>Banco_Estado</td>\n",
       "      <td>UT</td>\n",
       "      <td>2023</td>\n",
       "      <td>2</td>\n",
       "      <td>5</td>\n",
       "      <td>33742</td>\n",
       "    </tr>\n",
       "    <tr>\n",
       "      <th>146</th>\n",
       "      <td>Banco_Estado</td>\n",
       "      <td>UT</td>\n",
       "      <td>2023</td>\n",
       "      <td>3</td>\n",
       "      <td>1</td>\n",
       "      <td>16255</td>\n",
       "    </tr>\n",
       "    <tr>\n",
       "      <th>147</th>\n",
       "      <td>Banco_Estado</td>\n",
       "      <td>UT</td>\n",
       "      <td>2023</td>\n",
       "      <td>3</td>\n",
       "      <td>2</td>\n",
       "      <td>23265</td>\n",
       "    </tr>\n",
       "    <tr>\n",
       "      <th>148</th>\n",
       "      <td>Banco_Estado</td>\n",
       "      <td>UT</td>\n",
       "      <td>2023</td>\n",
       "      <td>3</td>\n",
       "      <td>3</td>\n",
       "      <td>26506</td>\n",
       "    </tr>\n",
       "    <tr>\n",
       "      <th>149</th>\n",
       "      <td>Banco_Estado</td>\n",
       "      <td>UT</td>\n",
       "      <td>2023</td>\n",
       "      <td>3</td>\n",
       "      <td>4</td>\n",
       "      <td>28939</td>\n",
       "    </tr>\n",
       "  </tbody>\n",
       "</table>\n",
       "<p>150 rows × 6 columns</p>\n",
       "</div>"
      ],
      "text/plain": [
       "     Project_Name Tipo   Año  Mes  Semana  Cantidad\n",
       "0    Banco_Estado   Tx  2021   12       5   2459794\n",
       "1    Banco_Estado   Tx  2022    1       1     69723\n",
       "2    Banco_Estado   Tx  2022    1       2    373935\n",
       "3    Banco_Estado   Tx  2022    1       3    795834\n",
       "4    Banco_Estado   Tx  2022    1       4   1212377\n",
       "..            ...  ...   ...  ...     ...       ...\n",
       "145  Banco_Estado   UT  2023    2       5     33742\n",
       "146  Banco_Estado   UT  2023    3       1     16255\n",
       "147  Banco_Estado   UT  2023    3       2     23265\n",
       "148  Banco_Estado   UT  2023    3       3     26506\n",
       "149  Banco_Estado   UT  2023    3       4     28939\n",
       "\n",
       "[150 rows x 6 columns]"
      ]
     },
     "execution_count": 6,
     "metadata": {},
     "output_type": "execute_result"
    }
   ],
   "source": [
    "# Genero el data frame con los datos de banco estado\n",
    "\n",
    "df = pd.read_sql_query(\"select * from VW_FIN_PROYECCION_METRICAS where Project_Name = 'Banco_Estado'\", conn)\n",
    "\n",
    "df.info()\n",
    "\n",
    "df.describe()\n",
    "\n",
    "df"
   ]
  },
  {
   "cell_type": "markdown",
   "id": "5cf2c23b",
   "metadata": {},
   "source": [
    "## Entrenamiento de los modelos\n",
    "### Probamos primero entrenar un modelo RandomForest y obtener las métricas de error"
   ]
  },
  {
   "cell_type": "code",
   "execution_count": 7,
   "id": "6b67e0a4",
   "metadata": {},
   "outputs": [],
   "source": [
    "# Importo las librerias\n",
    "\n",
    "from sklearn.ensemble import RandomForestRegressor\n",
    "from sklearn.metrics import mean_squared_error\n",
    "from math import sqrt #Para obtener la raiz cuadrada\n",
    "from sklearn.model_selection import cross_val_score\n",
    "from sklearn.model_selection import train_test_split\n",
    "from sklearn.inspection import permutation_importance\n"
   ]
  },
  {
   "cell_type": "markdown",
   "id": "45b00efb",
   "metadata": {},
   "source": [
    "## Preprocesado\n",
    "\n",
    "En este proyecto no incluimos por ahora ninguna transformación previa de los datos"
   ]
  },
  {
   "cell_type": "code",
   "execution_count": 8,
   "id": "8eb2df34",
   "metadata": {
    "scrolled": true
   },
   "outputs": [
    {
     "name": "stdout",
     "output_type": "stream",
     "text": [
      "     Año  Mes  Semana\n",
      "26  2022    6       1\n",
      "65  2023    1       5\n",
      "67  2023    2       2\n",
      "1   2022    1       1\n",
      "74  2023    3       4\n",
      "62  2023    1       2\n",
      "58  2022   12       3\n",
      "31  2022    7       1\n",
      "14  2022    3       4\n",
      "53  2022   11       3\n",
      "16  2022    4       1\n",
      "19  2022    4       4\n",
      "54  2022   11       4\n",
      "6   2022    2       1\n",
      "60  2022   12       5\n",
      "44  2022    9       4\n",
      "29  2022    6       4\n",
      "59  2022   12       4\n",
      "15  2022    3       5\n",
      "18  2022    4       3\n",
      "13  2022    3       3\n",
      "22  2022    5       2\n",
      "10  2022    2       5\n",
      "69  2023    2       4\n",
      "11  2022    3       1\n",
      "0   2021   12       5\n",
      "5   2022    1       5\n",
      "3   2022    1       3\n",
      "40  2022    8       5\n",
      "12  2022    3       2\n",
      "50  2022   10       5\n",
      "34  2022    7       4\n",
      "27  2022    6       2\n",
      "30  2022    6       5\n",
      "21  2022    5       1\n",
      "33  2022    7       3\n",
      "38  2022    8       3\n",
      "52  2022   11       2\n",
      "28  2022    6       3\n",
      "35  2022    7       5\n",
      "41  2022    9       1\n",
      "7   2022    2       2\n",
      "48  2022   10       3\n",
      "56  2022   12       1\n",
      "71  2023    3       1\n",
      "63  2023    1       3\n",
      "64  2023    1       4\n",
      "39  2022    8       4\n",
      "20  2022    4       5\n",
      "2   2022    1       2\n",
      "55  2022   11       5\n",
      "49  2022   10       4\n",
      "36  2022    8       1\n",
      "25  2022    5       5\n",
      "46  2022   10       1\n",
      "32  2022    7       2\n",
      "47  2022   10       2\n",
      "57  2022   12       2\n",
      "17  2022    4       2\n",
      "66  2023    2       1\n",
      "     Año  Mes  Semana\n",
      "23  2022    5       3\n",
      "68  2023    2       3\n",
      "24  2022    5       4\n",
      "43  2022    9       3\n",
      "45  2022    9       5\n",
      "72  2023    3       2\n",
      "42  2022    9       2\n",
      "73  2023    3       3\n",
      "37  2022    8       2\n",
      "70  2023    2       5\n",
      "51  2022   11       1\n",
      "8   2022    2       3\n",
      "4   2022    1       4\n",
      "61  2023    1       1\n",
      "9   2022    2       4\n",
      "26     199507\n",
      "65    2405142\n",
      "67     860959\n",
      "1       69723\n",
      "74    1683032\n",
      "62     978374\n",
      "58    1547582\n",
      "31      67277\n",
      "14    1598295\n",
      "53    1470105\n",
      "16      79248\n",
      "19    1451172\n",
      "54    2055625\n",
      "6      270733\n",
      "60    3010156\n",
      "44    1856781\n",
      "29    1477669\n",
      "59    2324131\n",
      "15    1968231\n",
      "18    1021057\n",
      "13    1168398\n",
      "22     919074\n",
      "10    1796184\n",
      "69    1851443\n",
      "11     267912\n",
      "0     2459794\n",
      "5     1819944\n",
      "3      795834\n",
      "40    2182738\n",
      "12     719581\n",
      "50    2553715\n",
      "34    1328806\n",
      "27     639385\n",
      "30    1836020\n",
      "21     441263\n",
      "33     889574\n",
      "38    1314194\n",
      "52     886696\n",
      "28    1074110\n",
      "35    1934346\n",
      "41     171919\n",
      "7      730788\n",
      "48    1136852\n",
      "56     207693\n",
      "71     232166\n",
      "63    1539311\n",
      "64    2082988\n",
      "39    1810168\n",
      "20    1983984\n",
      "2      373935\n",
      "55    2474050\n",
      "49    1698259\n",
      "36     351648\n",
      "25    2062092\n",
      "46     189871\n",
      "32     505526\n",
      "47     583592\n",
      "57     870331\n",
      "17     562976\n",
      "66     271589\n",
      "Name: Cantidad, dtype: int64\n",
      "23    1379907\n",
      "68    1400140\n",
      "24    1811723\n",
      "43    1336329\n",
      "45    2383004\n",
      "72     739445\n",
      "42     732766\n",
      "73    1213586\n",
      "37     848511\n",
      "70    2132762\n",
      "51     322396\n",
      "8     1180106\n",
      "4     1212377\n",
      "61     420478\n",
      "9     1603751\n",
      "Name: Cantidad, dtype: int64\n"
     ]
    }
   ],
   "source": [
    "## Entrenamiento del modelo para usuarios transaccionales\n",
    "\n",
    "Tx = df[df.Tipo== 'Tx']\n",
    "\n",
    "# Separamos el dataset en train y test\n",
    "\n",
    "#Obtenemos las divisiones con los predictores estandarizados\n",
    "\n",
    "x = Tx.drop(['Cantidad','Project_Name','Tipo'],axis= 1)\n",
    "y = Tx['Cantidad']\n",
    "\n",
    "\n",
    "X_train,X_test,y_train, y_test = train_test_split(x,y,random_state=123, test_size= 0.2)\n",
    "\n",
    "print(X_train)\n",
    "print(X_test)\n",
    "print(y_train)\n",
    "print(y_test)\n",
    "\n",
    "\n"
   ]
  },
  {
   "cell_type": "code",
   "execution_count": 9,
   "id": "44ebc70c",
   "metadata": {
    "scrolled": true
   },
   "outputs": [],
   "source": [
    "# Instanciamos el modelo\n",
    "\n",
    "## Por ahora no fijamos ningún hiperparámetro\n",
    "\n",
    "rf = RandomForestRegressor(random_state= 123)\n",
    "\n",
    "\n",
    "#Entrenamos el modelo con los predictores \n",
    "\n",
    "rf_tx = rf.fit(X_train,y_train)\n",
    "\n",
    "#Generamos las predicciones\n",
    "\n",
    "y_predicha = rf_tx.predict(X_test)\n"
   ]
  },
  {
   "cell_type": "markdown",
   "id": "1a6051e5",
   "metadata": {},
   "source": [
    "#### Obtenemos las métricas de error"
   ]
  },
  {
   "cell_type": "code",
   "execution_count": 10,
   "id": "2b1a6e04",
   "metadata": {
    "scrolled": false
   },
   "outputs": [
    {
     "name": "stdout",
     "output_type": "stream",
     "text": [
      "RMSE\n",
      "--------------------------------------------\n",
      "El RMSE obtenido es: 504.44\n",
      "--------------------------------------------\n",
      "Cross Validation\n",
      "--------------------------------------------\n",
      "El RMSE por CV obtenido es: 498.97\n",
      "--------------------------------------------\n"
     ]
    }
   ],
   "source": [
    "# Calculamos el rmse\n",
    "\n",
    "np.random.seed(123)\n",
    "\n",
    "rmse = sqrt(mean_squared_error(y_test, y_predicha,squared=False))\n",
    "rmse\n",
    "\n",
    "print(\"RMSE\")\n",
    "print(\"--------------------------------------------\")\n",
    "print(\"El RMSE obtenido es:\", round(rmse,2))\n",
    "print(\"--------------------------------------------\")\n",
    "\n",
    "# Utilizamos validación cruzada para obtener una métrica de error más robusta\n",
    "\n",
    "scores= cross_val_score(rf,X_train,y_train,cv=4, scoring= 'neg_root_mean_squared_error')\n",
    "\n",
    "print(\"Cross Validation\")\n",
    "print(\"--------------------------------------------\")\n",
    "print(\"El RMSE por CV obtenido es:\", round(np.mean(np.sqrt(np.abs(scores))),2))\n",
    "print(\"--------------------------------------------\")\n"
   ]
  },
  {
   "cell_type": "markdown",
   "id": "e9d58c0d",
   "metadata": {},
   "source": [
    "## Creamos un gráfico con los valores originales y entrenados"
   ]
  },
  {
   "cell_type": "code",
   "execution_count": 11,
   "id": "769640cb",
   "metadata": {
    "scrolled": true
   },
   "outputs": [
    {
     "data": {
      "image/png": "[encoded data removed]",
      "text/plain": [
       "<Figure size 1200x400 with 1 Axes>"
      ]
     },
     "metadata": {},
     "output_type": "display_data"
    }
   ],
   "source": [
    "#Creo un data frame al que le armo el campo Periodo\n",
    "\n",
    "Tx['Periodo'] = Tx['Año'].astype(str) +\"-\"+ Tx['Mes'].astype(str) +\"-\"+ Tx['Semana'].astype(str)\n",
    "\n",
    "\n",
    "#Unifico el dataset de test con los valores predichos\n",
    "\n",
    "X_test_graf = X_test\n",
    "\n",
    "\n",
    "X_test_graf['Y_predicha']= y_predicha\n",
    "\n",
    "#Creo el campo periodo\n",
    "\n",
    "X_test_graf['Periodo'] = X_test_graf['Año'].astype(str) +\"-\"+ X_test_graf['Mes'].astype(str) +\"-\"+ X_test_graf['Semana'].astype(str)\n",
    "\n",
    "#Armo el gráfico\n",
    "\n",
    "classes = ['Observados', 'Predichos']\n",
    "\n",
    "\n",
    "plt.figure(figsize =(12,4))\n",
    "plt.plot(Tx['Periodo'], Tx['Cantidad']/1000, color = \"#191C3C\")  # Gráfico de linea datos originales\n",
    "plt.scatter(X_test_graf['Periodo'], X_test_graf['Y_predicha']/1000, color = \"#F452E8\", marker= \"+\") #Agrego en puntos los datos predichos\n",
    "plt.xlabel(\"Año-Mes-Semana\")  # Etiqueta eje X\n",
    "plt.ylabel(\"Usuarios Transaccionales \\n(miles)\")   # Etiqueta eje y\n",
    "plt.title(\"Evolución de los UT de Banco Estado\") #Titulo\n",
    "plt.xticks(rotation = 90,fontsize='8', horizontalalignment='center') #Roto las etiquetas del eje x\n",
    "plt.legend(labels=classes)\n",
    "plt.show()  # display"
   ]
  },
  {
   "cell_type": "markdown",
   "id": "da35b3e4",
   "metadata": {},
   "source": [
    "### Por ultimo analizamos la importancia de los predictores"
   ]
  },
  {
   "cell_type": "code",
   "execution_count": 12,
   "id": "6b543d86",
   "metadata": {
    "scrolled": true
   },
   "outputs": [
    {
     "data": {
      "text/html": [
       "<div>\n",
       "<style scoped>\n",
       "    .dataframe tbody tr th:only-of-type {\n",
       "        vertical-align: middle;\n",
       "    }\n",
       "\n",
       "    .dataframe tbody tr th {\n",
       "        vertical-align: top;\n",
       "    }\n",
       "\n",
       "    .dataframe thead th {\n",
       "        text-align: right;\n",
       "    }\n",
       "</style>\n",
       "<table border=\"1\" class=\"dataframe\">\n",
       "  <thead>\n",
       "    <tr style=\"text-align: right;\">\n",
       "      <th></th>\n",
       "      <th>predictor</th>\n",
       "      <th>importancia</th>\n",
       "    </tr>\n",
       "  </thead>\n",
       "  <tbody>\n",
       "    <tr>\n",
       "      <th>2</th>\n",
       "      <td>Semana</td>\n",
       "      <td>0.895418</td>\n",
       "    </tr>\n",
       "    <tr>\n",
       "      <th>1</th>\n",
       "      <td>Mes</td>\n",
       "      <td>0.091013</td>\n",
       "    </tr>\n",
       "    <tr>\n",
       "      <th>0</th>\n",
       "      <td>Año</td>\n",
       "      <td>0.013570</td>\n",
       "    </tr>\n",
       "  </tbody>\n",
       "</table>\n",
       "</div>"
      ],
      "text/plain": [
       "  predictor  importancia\n",
       "2    Semana     0.895418\n",
       "1       Mes     0.091013\n",
       "0       Año     0.013570"
      ]
     },
     "execution_count": 12,
     "metadata": {},
     "output_type": "execute_result"
    }
   ],
   "source": [
    "importancia_predictores = pd.DataFrame(\n",
    "                            {'predictor':x.columns,\n",
    "                             'importancia':rf.feature_importances_}\n",
    "                            )\n",
    "importancia_predictores.sort_values('importancia', ascending=False)"
   ]
  },
  {
   "cell_type": "markdown",
   "id": "47ddb35b",
   "metadata": {},
   "source": [
    "# Probamos con un modelo XGBoost"
   ]
  },
  {
   "cell_type": "code",
   "execution_count": 13,
   "id": "42654a13",
   "metadata": {},
   "outputs": [],
   "source": [
    "np.random.seed(123)\n",
    "\n",
    "#Dividimos el dataset\n",
    "\n",
    "X_train,X_test,y_train, y_test = train_test_split(x,y,random_state=123, test_size= 0.2)\n",
    "\n",
    "\n",
    "# Importamos la libreria\n",
    "\n",
    "import xgboost as xgb\n",
    "\n",
    "xgb_model = xgb.XGBRegressor(random_state=123)\n",
    "\n",
    "\n",
    "#Entrenamos el modelo\n",
    "\n",
    "xgb_tx = xgb_model.fit(X_train,y_train)\n",
    "\n",
    "\n",
    "#Obtenemos las predicciones\n",
    "\n",
    "y_predicha_xgboost = xgb_tx.predict(X_test)"
   ]
  },
  {
   "cell_type": "markdown",
   "id": "3868ee1d",
   "metadata": {},
   "source": [
    "## Obtenemos las métricas de error"
   ]
  },
  {
   "cell_type": "code",
   "execution_count": 14,
   "id": "1d524442",
   "metadata": {
    "scrolled": true
   },
   "outputs": [
    {
     "name": "stdout",
     "output_type": "stream",
     "text": [
      "RMSE\n",
      "--------------------------------------------\n",
      "El RMSE obtenido es: 374.89\n",
      "--------------------------------------------\n",
      "Cross Validation\n",
      "--------------------------------------------\n",
      "El RMSE por CV obtenido es: 470.37\n",
      "--------------------------------------------\n"
     ]
    }
   ],
   "source": [
    "# Calculamos el rmse\n",
    "\n",
    "np.random.seed(123)\n",
    "\n",
    "rmse = sqrt(mean_squared_error(y_test, y_predicha_xgboost,squared=False))\n",
    "rmse\n",
    "\n",
    "print(\"RMSE\")\n",
    "print(\"--------------------------------------------\")\n",
    "print(\"El RMSE obtenido es:\", round(rmse,2))\n",
    "print(\"--------------------------------------------\")\n",
    "\n",
    "# Utilizamos validación cruzada para obtener una métrica de error más robusta\n",
    "\n",
    "scores= cross_val_score(xgb_model,X_train,y_train,cv=4, scoring= 'neg_root_mean_squared_error')\n",
    "\n",
    "print(\"Cross Validation\")\n",
    "print(\"--------------------------------------------\")\n",
    "print(\"El RMSE por CV obtenido es:\", round(np.mean(np.sqrt(np.abs(scores))),2))\n",
    "print(\"--------------------------------------------\")\n"
   ]
  },
  {
   "cell_type": "code",
   "execution_count": 15,
   "id": "de6d42f6",
   "metadata": {
    "scrolled": false
   },
   "outputs": [
    {
     "data": {
      "image/png": "[encoded data removed]",
      "text/plain": [
       "<Figure size 1200x400 with 1 Axes>"
      ]
     },
     "metadata": {},
     "output_type": "display_data"
    }
   ],
   "source": [
    "#Creo un data frame al que le armo el campo Periodo\n",
    "\n",
    "Tx['Periodo'] = Tx['Año'].astype(str) +\"-\"+ Tx['Mes'].astype(str) +\"-\"+ Tx['Semana'].astype(str)\n",
    "\n",
    "\n",
    "#Unifico el dataset de test con los valores predichos\n",
    "\n",
    "X_test_graf = X_test\n",
    "\n",
    "\n",
    "X_test_graf['Y_predicha']=  y_predicha_xgboost\n",
    "\n",
    "#Creo el campo periodo\n",
    "\n",
    "X_test_graf['Periodo'] = X_test_graf['Año'].astype(str) +\"-\"+ X_test_graf['Mes'].astype(str) +\"-\"+ X_test_graf['Semana'].astype(str)\n",
    "\n",
    "\n",
    "#Armo el gráfico\n",
    "\n",
    "classes = ['Observados', 'Predichos']\n",
    "\n",
    "\n",
    "plt.figure(figsize =(12,4))\n",
    "plt.plot(Tx['Periodo'], Tx['Cantidad']/1000, color = \"#191C3C\")  # Gráfico de linea datos originales\n",
    "plt.scatter(X_test_graf['Periodo'], X_test_graf['Y_predicha']/1000, color = \"#F452E8\", marker= \"+\") #Agrego en puntos los datos predichos\n",
    "plt.xlabel(\"Año-Mes-Semana\")  # Etiqueta eje X\n",
    "plt.ylabel(\"Usuarios Transaccionales \\n(miles)\")   # Etiqueta eje y\n",
    "plt.title(\"Evolución de los UT de Banco Estado\") #Titulo\n",
    "plt.xticks(rotation = 90,fontsize='8', horizontalalignment='center') #Roto las etiquetas del eje x\n",
    "plt.legend(labels=classes)\n",
    "plt.show()  # display"
   ]
  },
  {
   "cell_type": "markdown",
   "id": "78b4f5bb",
   "metadata": {},
   "source": [
    "## Optimizamos los hiperparámetros del modelo"
   ]
  },
  {
   "cell_type": "code",
   "execution_count": 16,
   "id": "041e249a",
   "metadata": {
    "scrolled": true
   },
   "outputs": [],
   "source": [
    "### Optimizamos el parámetro max_depth, utlizando GridSeacrhCV\n",
    "\n",
    "from sklearn.model_selection import GridSearchCV #grid search\n",
    "\n",
    "#generamos una semilla aleatoria\n",
    "\n",
    "np.random.seed(123)\n",
    "\n",
    "#Armamos la cuadricula de hiperparametros\n",
    "\n",
    "param_grid = { 'max_depth': [3, 5, 6, 10, 15, 20],\n",
    "           #'learning_rate': [0.01, 0.1, 0.2, 0.3],\n",
    "           #'subsample': np.arange(0.5, 1.0, 0.1),\n",
    "           #'colsample_bytree': np.arange(0.4, 1.0, 0.1),\n",
    "           #'colsample_bylevel': np.arange(0.4, 1.0, 0.1),\n",
    "           'n_estimators': [100, 500, 1000]}\n",
    "\n",
    "#Modelo\n",
    "\n",
    "xgb_model = xgb.XGBRegressor()\n",
    "\n",
    "model_grid = GridSearchCV(estimator=xgb_model, param_grid=param_grid, cv= 5, refit= True)\n",
    "\n",
    "#Entrenamos el modelo con datos preprocesados\n",
    "\n",
    "model_grid_fit = model_grid.fit(X_train, y_train)\n"
   ]
  },
  {
   "cell_type": "code",
   "execution_count": 17,
   "id": "95bd3f96",
   "metadata": {
    "scrolled": true
   },
   "outputs": [
    {
     "name": "stdout",
     "output_type": "stream",
     "text": [
      "Mejores parámetros optimizados\n",
      "--------------------------------------------\n",
      "{'max_depth': 3, 'n_estimators': 1000}\n",
      "--------------------------------------------\n"
     ]
    }
   ],
   "source": [
    "#Buscamos el mejor estimador\n",
    "\n",
    "print(\"Mejores parámetros optimizados\")\n",
    "print(\"--------------------------------------------\")\n",
    "print(model_grid_fit.best_params_)\n",
    "print(\"--------------------------------------------\")"
   ]
  },
  {
   "cell_type": "code",
   "execution_count": 18,
   "id": "7f759476",
   "metadata": {
    "scrolled": true
   },
   "outputs": [
    {
     "data": {
      "text/html": [
       "<div>\n",
       "<style scoped>\n",
       "    .dataframe tbody tr th:only-of-type {\n",
       "        vertical-align: middle;\n",
       "    }\n",
       "\n",
       "    .dataframe tbody tr th {\n",
       "        vertical-align: top;\n",
       "    }\n",
       "\n",
       "    .dataframe thead th {\n",
       "        text-align: right;\n",
       "    }\n",
       "</style>\n",
       "<table border=\"1\" class=\"dataframe\">\n",
       "  <thead>\n",
       "    <tr style=\"text-align: right;\">\n",
       "      <th></th>\n",
       "      <th>param_max_depth</th>\n",
       "      <th>param_n_estimators</th>\n",
       "      <th>mean_test_score</th>\n",
       "      <th>std_test_score</th>\n",
       "    </tr>\n",
       "  </thead>\n",
       "  <tbody>\n",
       "    <tr>\n",
       "      <th>2</th>\n",
       "      <td>3</td>\n",
       "      <td>1000</td>\n",
       "      <td>0.933903</td>\n",
       "      <td>0.029595</td>\n",
       "    </tr>\n",
       "    <tr>\n",
       "      <th>1</th>\n",
       "      <td>3</td>\n",
       "      <td>500</td>\n",
       "      <td>0.933842</td>\n",
       "      <td>0.029491</td>\n",
       "    </tr>\n",
       "    <tr>\n",
       "      <th>0</th>\n",
       "      <td>3</td>\n",
       "      <td>100</td>\n",
       "      <td>0.931035</td>\n",
       "      <td>0.028015</td>\n",
       "    </tr>\n",
       "    <tr>\n",
       "      <th>4</th>\n",
       "      <td>5</td>\n",
       "      <td>500</td>\n",
       "      <td>0.914776</td>\n",
       "      <td>0.019330</td>\n",
       "    </tr>\n",
       "    <tr>\n",
       "      <th>5</th>\n",
       "      <td>5</td>\n",
       "      <td>1000</td>\n",
       "      <td>0.914776</td>\n",
       "      <td>0.019330</td>\n",
       "    </tr>\n",
       "    <tr>\n",
       "      <th>3</th>\n",
       "      <td>5</td>\n",
       "      <td>100</td>\n",
       "      <td>0.914730</td>\n",
       "      <td>0.019287</td>\n",
       "    </tr>\n",
       "    <tr>\n",
       "      <th>8</th>\n",
       "      <td>6</td>\n",
       "      <td>1000</td>\n",
       "      <td>0.907705</td>\n",
       "      <td>0.017888</td>\n",
       "    </tr>\n",
       "    <tr>\n",
       "      <th>7</th>\n",
       "      <td>6</td>\n",
       "      <td>500</td>\n",
       "      <td>0.907704</td>\n",
       "      <td>0.017887</td>\n",
       "    </tr>\n",
       "    <tr>\n",
       "      <th>6</th>\n",
       "      <td>6</td>\n",
       "      <td>100</td>\n",
       "      <td>0.907701</td>\n",
       "      <td>0.017880</td>\n",
       "    </tr>\n",
       "    <tr>\n",
       "      <th>11</th>\n",
       "      <td>10</td>\n",
       "      <td>1000</td>\n",
       "      <td>0.903657</td>\n",
       "      <td>0.015561</td>\n",
       "    </tr>\n",
       "    <tr>\n",
       "      <th>10</th>\n",
       "      <td>10</td>\n",
       "      <td>500</td>\n",
       "      <td>0.903657</td>\n",
       "      <td>0.015561</td>\n",
       "    </tr>\n",
       "    <tr>\n",
       "      <th>9</th>\n",
       "      <td>10</td>\n",
       "      <td>100</td>\n",
       "      <td>0.903656</td>\n",
       "      <td>0.015562</td>\n",
       "    </tr>\n",
       "    <tr>\n",
       "      <th>14</th>\n",
       "      <td>15</td>\n",
       "      <td>1000</td>\n",
       "      <td>0.903430</td>\n",
       "      <td>0.014817</td>\n",
       "    </tr>\n",
       "    <tr>\n",
       "      <th>17</th>\n",
       "      <td>20</td>\n",
       "      <td>1000</td>\n",
       "      <td>0.903430</td>\n",
       "      <td>0.014817</td>\n",
       "    </tr>\n",
       "    <tr>\n",
       "      <th>13</th>\n",
       "      <td>15</td>\n",
       "      <td>500</td>\n",
       "      <td>0.903429</td>\n",
       "      <td>0.014816</td>\n",
       "    </tr>\n",
       "    <tr>\n",
       "      <th>16</th>\n",
       "      <td>20</td>\n",
       "      <td>500</td>\n",
       "      <td>0.903429</td>\n",
       "      <td>0.014816</td>\n",
       "    </tr>\n",
       "    <tr>\n",
       "      <th>12</th>\n",
       "      <td>15</td>\n",
       "      <td>100</td>\n",
       "      <td>0.903429</td>\n",
       "      <td>0.014815</td>\n",
       "    </tr>\n",
       "    <tr>\n",
       "      <th>15</th>\n",
       "      <td>20</td>\n",
       "      <td>100</td>\n",
       "      <td>0.903429</td>\n",
       "      <td>0.014815</td>\n",
       "    </tr>\n",
       "  </tbody>\n",
       "</table>\n",
       "</div>"
      ],
      "text/plain": [
       "   param_max_depth param_n_estimators  mean_test_score  std_test_score\n",
       "2                3               1000         0.933903        0.029595\n",
       "1                3                500         0.933842        0.029491\n",
       "0                3                100         0.931035        0.028015\n",
       "4                5                500         0.914776        0.019330\n",
       "5                5               1000         0.914776        0.019330\n",
       "3                5                100         0.914730        0.019287\n",
       "8                6               1000         0.907705        0.017888\n",
       "7                6                500         0.907704        0.017887\n",
       "6                6                100         0.907701        0.017880\n",
       "11              10               1000         0.903657        0.015561\n",
       "10              10                500         0.903657        0.015561\n",
       "9               10                100         0.903656        0.015562\n",
       "14              15               1000         0.903430        0.014817\n",
       "17              20               1000         0.903430        0.014817\n",
       "13              15                500         0.903429        0.014816\n",
       "16              20                500         0.903429        0.014816\n",
       "12              15                100         0.903429        0.014815\n",
       "15              20                100         0.903429        0.014815"
      ]
     },
     "execution_count": 18,
     "metadata": {},
     "output_type": "execute_result"
    }
   ],
   "source": [
    "#Vemos los errores\n",
    "\n",
    "resultados = pd.DataFrame(model_grid_fit.cv_results_)\n",
    "resultados.filter(regex = '(param*|mean_t|std_t)') \\\n",
    "    .drop(columns = 'params') \\\n",
    "    .sort_values('mean_test_score', ascending = False)"
   ]
  },
  {
   "cell_type": "markdown",
   "id": "c86d087e",
   "metadata": {},
   "source": [
    "## Rentrenamos el modelo con los parámetros optimizados"
   ]
  },
  {
   "cell_type": "code",
   "execution_count": 19,
   "id": "dcb28ee9",
   "metadata": {},
   "outputs": [],
   "source": [
    "np.random.seed(123)\n",
    "\n",
    "#Dividimos el dataset\n",
    "\n",
    "X_train,X_test,y_train, y_test = train_test_split(x,y,random_state=123, test_size= 0.2)\n",
    "\n",
    "\n",
    "# Importamos la libreria\n",
    "\n",
    "import xgboost as xgb\n",
    "\n",
    "xgb_model = xgb.XGBRegressor(random_state=123,max_depth= 3, n_estimators=1000)\n",
    "\n",
    "\n",
    "#Entrenamos el modelo\n",
    "\n",
    "xgb_ut = xgb_model.fit(X_train,y_train)\n",
    "\n",
    "\n",
    "#Obtenemos las predicciones\n",
    "\n",
    "y_predicha_xgboost = xgb_ut.predict(X_test)\n",
    "\n"
   ]
  },
  {
   "cell_type": "markdown",
   "id": "6ffb9466",
   "metadata": {},
   "source": [
    "### Obtenemos las métricas de error con los parámetros optimizados"
   ]
  },
  {
   "cell_type": "code",
   "execution_count": 20,
   "id": "43332286",
   "metadata": {},
   "outputs": [
    {
     "name": "stdout",
     "output_type": "stream",
     "text": [
      "RMSE\n",
      "--------------------------------------------\n",
      "El RMSE obtenido es: 316.04\n",
      "--------------------------------------------\n",
      "Cross Validation\n",
      "--------------------------------------------\n",
      "El RMSE por CV obtenido es: 429.77\n",
      "--------------------------------------------\n"
     ]
    }
   ],
   "source": [
    "# Calculamos el rmse\n",
    "\n",
    "np.random.seed(123)\n",
    "\n",
    "rmse = sqrt(mean_squared_error(y_test, y_predicha_xgboost,squared=False))\n",
    "rmse\n",
    "\n",
    "print(\"RMSE\")\n",
    "print(\"--------------------------------------------\")\n",
    "print(\"El RMSE obtenido es:\", round(rmse,2))\n",
    "print(\"--------------------------------------------\")\n",
    "\n",
    "# Utilizamos validación cruzada para obtener una métrica de error más robusta\n",
    "\n",
    "scores= cross_val_score(xgb_model,X_train,y_train,cv=4, scoring= 'neg_root_mean_squared_error')\n",
    "\n",
    "print(\"Cross Validation\")\n",
    "print(\"--------------------------------------------\")\n",
    "print(\"El RMSE por CV obtenido es:\", round(np.mean(np.sqrt(np.abs(scores))),2))\n",
    "print(\"--------------------------------------------\")"
   ]
  }
 ],
 "metadata": {
  "kernelspec": {
   "display_name": "Python 3 (ipykernel)",
   "language": "python",
   "name": "python3"
  },
  "language_info": {
   "codemirror_mode": {
    "name": "ipython",
    "version": 3
   },
   "file_extension": ".py",
   "mimetype": "text/x-python",
   "name": "python",
   "nbconvert_exporter": "python",
   "pygments_lexer": "ipython3",
   "version": "3.9.13"
  }
 },
 "nbformat": 4,
 "nbformat_minor": 5
}
