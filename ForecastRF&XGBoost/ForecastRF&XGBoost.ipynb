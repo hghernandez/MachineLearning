{
 "cells": [
  {
   "cell_type": "markdown",
   "metadata": {},
   "source": [
    "### Entrenamiento y evaluación de 2 modelos para Forecast"
   ]
  },
  {
   "cell_type": "markdown",
   "metadata": {},
   "source": [
    "Para este proyecto vamos a entrenar un modelo **Random Forest** y un modelo **XGBOOST**, ¿pero que representan estos modelos?"
   ]
  },
  {
   "cell_type": "markdown",
   "metadata": {},
   "source": [
    "#### Evolución de los modelos de árboles de decisión"
   ]
  },
  {
   "cell_type": "code",
   "execution_count": 1,
   "metadata": {
    "scrolled": false
   },
   "outputs": [
    {
     "data": {
      "text/html": [
       "<img src=\"EvolucionDecisionTree.JPG\" width=\"450\" height=\"450\"/>"
      ],
      "text/plain": [
       "<IPython.core.display.Image object>"
      ]
     },
     "execution_count": 1,
     "metadata": {},
     "output_type": "execute_result"
    }
   ],
   "source": [
    "from IPython.display import Image\n",
    "Image(url=\"EvolucionDecisionTree.JPG\", width=450, height=450)"
   ]
  },
  {
   "cell_type": "markdown",
   "metadata": {},
   "source": [
    "#### Decision Tree"
   ]
  },
  {
   "cell_type": "code",
   "execution_count": 2,
   "metadata": {},
   "outputs": [
    {
     "data": {
      "text/html": [
       "<img src=\"DecisionTree.png\" width=\"600\" height=\"500\"/>"
      ],
      "text/plain": [
       "<IPython.core.display.Image object>"
      ]
     },
     "execution_count": 2,
     "metadata": {},
     "output_type": "execute_result"
    }
   ],
   "source": [
    "Image(url=\"DecisionTree.png\", width=600, height=500)"
   ]
  },
  {
   "cell_type": "markdown",
   "metadata": {},
   "source": [
    "#### Random Forest"
   ]
  },
  {
   "cell_type": "code",
   "execution_count": 3,
   "metadata": {
    "scrolled": true
   },
   "outputs": [
    {
     "data": {
      "text/html": [
       "<img src=\"RandomForest.png\" width=\"600\" height=\"500\"/>"
      ],
      "text/plain": [
       "<IPython.core.display.Image object>"
      ]
     },
     "execution_count": 3,
     "metadata": {},
     "output_type": "execute_result"
    }
   ],
   "source": [
    "Image(url=\"RandomForest.png\", width=600, height=500)"
   ]
  },
  {
   "cell_type": "markdown",
   "metadata": {},
   "source": [
    "#### XGBoost"
   ]
  },
  {
   "cell_type": "code",
   "execution_count": 4,
   "metadata": {
    "scrolled": true
   },
   "outputs": [
    {
     "data": {
      "text/html": [
       "<img src=\"XGBoost.png\" width=\"600\" height=\"500\"/>"
      ],
      "text/plain": [
       "<IPython.core.display.Image object>"
      ]
     },
     "execution_count": 4,
     "metadata": {},
     "output_type": "execute_result"
    }
   ],
   "source": [
    "Image(url=\"XGBoost.png\", width=600, height=500)"
   ]
  },
  {
   "cell_type": "markdown",
   "metadata": {},
   "source": [
    "## Descripción del dataset"
   ]
  },
  {
   "cell_type": "markdown",
   "metadata": {},
   "source": [
    "Utilizaremos un **dataset** tomado de [Kaggle](https://www.kaggle.com/datasets/carrie1/ecommerce-data?resource=download) que cuenta con información de ventas de una tienda minorista en línea registrada y con sede en el Reino Unido. El dataset muestra las operaciones en distintos países.\n",
    "En este caso particular **he subido el dataset al SQL** para mostrar como realizar la conexión desde la notebook."
   ]
  },
  {
   "cell_type": "markdown",
   "metadata": {},
   "source": [
    "#### Me conecto al SQL\n"
   ]
  },
  {
   "cell_type": "code",
   "execution_count": 2,
   "metadata": {},
   "outputs": [],
   "source": [
    "#Importo las librerias\n",
    "\n",
    "import pyodbc\n",
    "import os\n",
    "import numpy as np\n",
    "import pandas as pd\n",
    "pd.options.mode.chained_assignment = None  # default='warn'\n",
    "import matplotlib.pyplot as plt\n",
    "import matplotlib.dates as mdates\n",
    "from math import ceil\n",
    "\n",
    "#user = os.environ['USER_DW']\n",
    "#passw = os.environ['PASS_DW']\n",
    "server = os.environ['Server']\n",
    "\n",
    "conn = pyodbc.connect('Driver={SQL Server};'\n",
    "                    'Server='+server+';'\n",
    "                     'Database=portfolio;'\n",
    "                     'Trusted_Connection=no;'\n",
    "                     'Integrated_Security=false;'\n",
    "                     #'UID='+user+';'\n",
    "                     #'PWD='+passw+';'\n",
    "                     )"
   ]
  },
  {
   "cell_type": "code",
   "execution_count": 3,
   "metadata": {
    "scrolled": true
   },
   "outputs": [
    {
     "name": "stdout",
     "output_type": "stream",
     "text": [
      "<class 'pandas.core.frame.DataFrame'>\n",
      "RangeIndex: 495478 entries, 0 to 495477\n",
      "Data columns (total 8 columns):\n",
      " #   Column       Non-Null Count   Dtype         \n",
      "---  ------       --------------   -----         \n",
      " 0   InvoiceNo    495478 non-null  object        \n",
      " 1   StockCode    495478 non-null  object        \n",
      " 2   Description  495478 non-null  object        \n",
      " 3   Quantity     495478 non-null  int64         \n",
      " 4   InvoiceDate  495478 non-null  datetime64[ns]\n",
      " 5   UnitPrice    495478 non-null  float64       \n",
      " 6   CustomerID   361878 non-null  float64       \n",
      " 7   Country      495478 non-null  object        \n",
      "dtypes: datetime64[ns](1), float64(2), int64(1), object(4)\n",
      "memory usage: 30.2+ MB\n"
     ]
    },
    {
     "data": {
      "text/html": [
       "<div>\n",
       "<style scoped>\n",
       "    .dataframe tbody tr th:only-of-type {\n",
       "        vertical-align: middle;\n",
       "    }\n",
       "\n",
       "    .dataframe tbody tr th {\n",
       "        vertical-align: top;\n",
       "    }\n",
       "\n",
       "    .dataframe thead th {\n",
       "        text-align: right;\n",
       "    }\n",
       "</style>\n",
       "<table border=\"1\" class=\"dataframe\">\n",
       "  <thead>\n",
       "    <tr style=\"text-align: right;\">\n",
       "      <th></th>\n",
       "      <th>Quantity</th>\n",
       "      <th>UnitPrice</th>\n",
       "      <th>CustomerID</th>\n",
       "    </tr>\n",
       "  </thead>\n",
       "  <tbody>\n",
       "    <tr>\n",
       "      <th>count</th>\n",
       "      <td>495478.000000</td>\n",
       "      <td>495478.000000</td>\n",
       "      <td>361878.000000</td>\n",
       "    </tr>\n",
       "    <tr>\n",
       "      <th>mean</th>\n",
       "      <td>8.605486</td>\n",
       "      <td>4.532422</td>\n",
       "      <td>15547.871368</td>\n",
       "    </tr>\n",
       "    <tr>\n",
       "      <th>std</th>\n",
       "      <td>227.588756</td>\n",
       "      <td>99.315438</td>\n",
       "      <td>1594.402590</td>\n",
       "    </tr>\n",
       "    <tr>\n",
       "      <th>min</th>\n",
       "      <td>-80995.000000</td>\n",
       "      <td>-11062.060000</td>\n",
       "      <td>12346.000000</td>\n",
       "    </tr>\n",
       "    <tr>\n",
       "      <th>25%</th>\n",
       "      <td>1.000000</td>\n",
       "      <td>1.250000</td>\n",
       "      <td>14194.000000</td>\n",
       "    </tr>\n",
       "    <tr>\n",
       "      <th>50%</th>\n",
       "      <td>3.000000</td>\n",
       "      <td>2.100000</td>\n",
       "      <td>15514.000000</td>\n",
       "    </tr>\n",
       "    <tr>\n",
       "      <th>75%</th>\n",
       "      <td>10.000000</td>\n",
       "      <td>4.130000</td>\n",
       "      <td>16931.000000</td>\n",
       "    </tr>\n",
       "    <tr>\n",
       "      <th>max</th>\n",
       "      <td>80995.000000</td>\n",
       "      <td>38970.000000</td>\n",
       "      <td>18287.000000</td>\n",
       "    </tr>\n",
       "  </tbody>\n",
       "</table>\n",
       "</div>"
      ],
      "text/plain": [
       "            Quantity      UnitPrice     CustomerID\n",
       "count  495478.000000  495478.000000  361878.000000\n",
       "mean        8.605486       4.532422   15547.871368\n",
       "std       227.588756      99.315438    1594.402590\n",
       "min    -80995.000000  -11062.060000   12346.000000\n",
       "25%         1.000000       1.250000   14194.000000\n",
       "50%         3.000000       2.100000   15514.000000\n",
       "75%        10.000000       4.130000   16931.000000\n",
       "max     80995.000000   38970.000000   18287.000000"
      ]
     },
     "execution_count": 3,
     "metadata": {},
     "output_type": "execute_result"
    }
   ],
   "source": [
    "# Genero el data frame con los datos de banco estado\n",
    "\n",
    "df = pd.read_sql_query(\"select * from dbo.ecommerce where country = 'United Kingdom'\", conn)\n",
    "\n",
    "df.info()\n",
    "\n",
    "df.describe()\n",
    "\n"
   ]
  },
  {
   "cell_type": "code",
   "execution_count": 4,
   "metadata": {},
   "outputs": [
    {
     "data": {
      "text/plain": [
       "StockCode\n",
       "85123A    305\n",
       "85099B    302\n",
       "22423     301\n",
       "84879     298\n",
       "20725     298\n",
       "         ... \n",
       "21274       1\n",
       "72800F      1\n",
       "72802c      1\n",
       "72803B      1\n",
       "m           1\n",
       "Name: Fecha, Length: 4065, dtype: int64"
      ]
     },
     "execution_count": 4,
     "metadata": {},
     "output_type": "execute_result"
    }
   ],
   "source": [
    "#Convertimos InvoiceDate en tipo Date\n",
    "\n",
    "df['Fecha']=df['InvoiceDate'].dt.date\n",
    "\n",
    "#Contamos el producto que más días tiene en la serie\n",
    "\n",
    "df.groupby(\"StockCode\").Fecha.nunique().sort_values(ascending=False)\n",
    "\n",
    "#Seleccionamos el producto 85123A que corresponde con WHITE HANGING HEART T-LIGHT HOLDER"
   ]
  },
  {
   "cell_type": "code",
   "execution_count": 5,
   "metadata": {
    "scrolled": true
   },
   "outputs": [
    {
     "data": {
      "text/html": [
       "<div>\n",
       "<style scoped>\n",
       "    .dataframe tbody tr th:only-of-type {\n",
       "        vertical-align: middle;\n",
       "    }\n",
       "\n",
       "    .dataframe tbody tr th {\n",
       "        vertical-align: top;\n",
       "    }\n",
       "\n",
       "    .dataframe thead th {\n",
       "        text-align: right;\n",
       "    }\n",
       "</style>\n",
       "<table border=\"1\" class=\"dataframe\">\n",
       "  <thead>\n",
       "    <tr style=\"text-align: right;\">\n",
       "      <th></th>\n",
       "      <th>Fecha</th>\n",
       "      <th>StockCode</th>\n",
       "      <th>Description</th>\n",
       "      <th>Quantity</th>\n",
       "      <th>InvoiceDate</th>\n",
       "    </tr>\n",
       "  </thead>\n",
       "  <tbody>\n",
       "    <tr>\n",
       "      <th>0</th>\n",
       "      <td>2010-12-01</td>\n",
       "      <td>85123A</td>\n",
       "      <td>WHITE HANGING HEART T-LIGHT HOLDER</td>\n",
       "      <td>6</td>\n",
       "      <td>2010-12-01 08:26:00</td>\n",
       "    </tr>\n",
       "    <tr>\n",
       "      <th>29</th>\n",
       "      <td>2010-12-01</td>\n",
       "      <td>85123A</td>\n",
       "      <td>WHITE HANGING HEART T-LIGHT HOLDER</td>\n",
       "      <td>6</td>\n",
       "      <td>2010-12-01 09:02:00</td>\n",
       "    </tr>\n",
       "    <tr>\n",
       "      <th>46</th>\n",
       "      <td>2010-12-01</td>\n",
       "      <td>85123A</td>\n",
       "      <td>WHITE HANGING HEART T-LIGHT HOLDER</td>\n",
       "      <td>6</td>\n",
       "      <td>2010-12-01 09:32:00</td>\n",
       "    </tr>\n",
       "    <tr>\n",
       "      <th>186</th>\n",
       "      <td>2010-12-01</td>\n",
       "      <td>85123A</td>\n",
       "      <td>WHITE HANGING HEART T-LIGHT HOLDER</td>\n",
       "      <td>64</td>\n",
       "      <td>2010-12-01 10:19:00</td>\n",
       "    </tr>\n",
       "    <tr>\n",
       "      <th>228</th>\n",
       "      <td>2010-12-01</td>\n",
       "      <td>85123A</td>\n",
       "      <td>WHITE HANGING HEART T-LIGHT HOLDER</td>\n",
       "      <td>32</td>\n",
       "      <td>2010-12-01 10:39:00</td>\n",
       "    </tr>\n",
       "    <tr>\n",
       "      <th>...</th>\n",
       "      <td>...</td>\n",
       "      <td>...</td>\n",
       "      <td>...</td>\n",
       "      <td>...</td>\n",
       "      <td>...</td>\n",
       "    </tr>\n",
       "    <tr>\n",
       "      <th>493091</th>\n",
       "      <td>2011-12-08</td>\n",
       "      <td>85123A</td>\n",
       "      <td>CREAM HANGING HEART T-LIGHT HOLDER</td>\n",
       "      <td>1</td>\n",
       "      <td>2011-12-08 16:30:00</td>\n",
       "    </tr>\n",
       "    <tr>\n",
       "      <th>493728</th>\n",
       "      <td>2011-12-08</td>\n",
       "      <td>85123A</td>\n",
       "      <td>WHITE HANGING HEART T-LIGHT HOLDER</td>\n",
       "      <td>32</td>\n",
       "      <td>2011-12-08 18:03:00</td>\n",
       "    </tr>\n",
       "    <tr>\n",
       "      <th>493966</th>\n",
       "      <td>2011-12-08</td>\n",
       "      <td>85123A</td>\n",
       "      <td>WHITE HANGING HEART T-LIGHT HOLDER</td>\n",
       "      <td>6</td>\n",
       "      <td>2011-12-08 19:55:00</td>\n",
       "    </tr>\n",
       "    <tr>\n",
       "      <th>494520</th>\n",
       "      <td>2011-12-09</td>\n",
       "      <td>85123A</td>\n",
       "      <td>CREAM HANGING HEART T-LIGHT HOLDER</td>\n",
       "      <td>3</td>\n",
       "      <td>2011-12-09 10:03:00</td>\n",
       "    </tr>\n",
       "    <tr>\n",
       "      <th>495287</th>\n",
       "      <td>2011-12-09</td>\n",
       "      <td>85123A</td>\n",
       "      <td>CREAM HANGING HEART T-LIGHT HOLDER</td>\n",
       "      <td>1</td>\n",
       "      <td>2011-12-09 11:34:00</td>\n",
       "    </tr>\n",
       "  </tbody>\n",
       "</table>\n",
       "<p>2174 rows × 5 columns</p>\n",
       "</div>"
      ],
      "text/plain": [
       "             Fecha StockCode                         Description  Quantity  \\\n",
       "0       2010-12-01    85123A  WHITE HANGING HEART T-LIGHT HOLDER         6   \n",
       "29      2010-12-01    85123A  WHITE HANGING HEART T-LIGHT HOLDER         6   \n",
       "46      2010-12-01    85123A  WHITE HANGING HEART T-LIGHT HOLDER         6   \n",
       "186     2010-12-01    85123A  WHITE HANGING HEART T-LIGHT HOLDER        64   \n",
       "228     2010-12-01    85123A  WHITE HANGING HEART T-LIGHT HOLDER        32   \n",
       "...            ...       ...                                 ...       ...   \n",
       "493091  2011-12-08    85123A  CREAM HANGING HEART T-LIGHT HOLDER         1   \n",
       "493728  2011-12-08    85123A  WHITE HANGING HEART T-LIGHT HOLDER        32   \n",
       "493966  2011-12-08    85123A  WHITE HANGING HEART T-LIGHT HOLDER         6   \n",
       "494520  2011-12-09    85123A  CREAM HANGING HEART T-LIGHT HOLDER         3   \n",
       "495287  2011-12-09    85123A  CREAM HANGING HEART T-LIGHT HOLDER         1   \n",
       "\n",
       "               InvoiceDate  \n",
       "0      2010-12-01 08:26:00  \n",
       "29     2010-12-01 09:02:00  \n",
       "46     2010-12-01 09:32:00  \n",
       "186    2010-12-01 10:19:00  \n",
       "228    2010-12-01 10:39:00  \n",
       "...                    ...  \n",
       "493091 2011-12-08 16:30:00  \n",
       "493728 2011-12-08 18:03:00  \n",
       "493966 2011-12-08 19:55:00  \n",
       "494520 2011-12-09 10:03:00  \n",
       "495287 2011-12-09 11:34:00  \n",
       "\n",
       "[2174 rows x 5 columns]"
      ]
     },
     "execution_count": 5,
     "metadata": {},
     "output_type": "execute_result"
    }
   ],
   "source": [
    "#Creamos el dataframe final\n",
    "\n",
    "df = df[['Fecha','StockCode','Description','Quantity','InvoiceDate']].query(\"StockCode== '85123A' & Quantity > 0\")\n",
    "\n",
    "df"
   ]
  },
  {
   "cell_type": "code",
   "execution_count": 6,
   "metadata": {},
   "outputs": [],
   "source": [
    "#Definimos una funcion para crear los features temporales y separo el dataset en X e Y\n",
    "#Además genero un indice que relaciona la fecha y la fecha numerica\n",
    "\n",
    "def create_features(df, label= None):\n",
    "    \"\"\"\n",
    "    Crea time series features from InvoiceDate index\n",
    "    \"\"\"\n",
    "    df['date'] = df.index\n",
    "    df['Fecha']=df['InvoiceDate'].dt.date\n",
    "    df['hour'] = df['InvoiceDate'].dt.hour\n",
    "    df['dayofweek'] = df['InvoiceDate'].dt.dayofweek\n",
    "    df['quarter'] = df['InvoiceDate'].dt.quarter\n",
    "    df['month'] = df['InvoiceDate'].dt.month\n",
    "    df['year'] = df['InvoiceDate'].dt.year\n",
    "    df['dayofyear'] = df['InvoiceDate'].dt.dayofyear\n",
    "    df['dayofmonth'] = df['InvoiceDate'].dt.day\n",
    "    df['weekofyear'] = df['InvoiceDate'].dt.weekofyear\n",
    "    \n",
    "    X = df[['date','hour','dayofweek','quarter','month','year',\n",
    "           'dayofyear','dayofmonth','weekofyear']]\n",
    "    \n",
    "    indice_date = df[['date','Fecha']] #Armo un indice de date numerico y fecha\n",
    "    \n",
    "    if label:\n",
    "        y = df[label]\n",
    "    return X, y, indice_date\n"
   ]
  },
  {
   "cell_type": "code",
   "execution_count": 8,
   "metadata": {
    "scrolled": true
   },
   "outputs": [
    {
     "name": "stderr",
     "output_type": "stream",
     "text": [
      "<ipython-input-6-0eb3bc70c0c2>:17: FutureWarning: Series.dt.weekofyear and Series.dt.week have been deprecated.  Please use Series.dt.isocalendar().week instead.\n",
      "  df['weekofyear'] = df['InvoiceDate'].dt.weekofyear\n"
     ]
    }
   ],
   "source": [
    "#Creamos los dataset X e Y\n",
    "\n",
    "X,y,indice_date = create_features(df,label= 'Quantity')\n",
    "\n",
    "\n",
    "#Agregamos la semana del mes\n",
    "\n",
    "#Creo una función para calcular la semana del mes. Las funciones por default calcular la semana del año.\n",
    "\n",
    "def week_of_month(dt):\n",
    "    \"\"\" Retorna la semana del mes para una fecha especificada.\n",
    "    \"\"\" \n",
    "    \n",
    "    # Fijo el dia inicial del mes\n",
    "    first_day = dt.replace(day=1)\n",
    "    # Seteo el dia de la semana de la fecha especificada\n",
    "    dom = dt.day\n",
    "    \n",
    "    # Sumo  el dia de la semana de la fecha especificada + el valor de dia de la semana\n",
    "    adjusted_dom = dom + first_day.weekday()\n",
    "\n",
    "    # Dvido por 7 y redondeo\n",
    "    return int(ceil(adjusted_dom/7.0))\n",
    "\n"
   ]
  },
  {
   "cell_type": "code",
   "execution_count": 9,
   "metadata": {
    "scrolled": true
   },
   "outputs": [],
   "source": [
    "#Agrego la semana del mes\n",
    "\n",
    "X['WeekofMonth'] = df['Fecha'].apply(week_of_month)\n"
   ]
  },
  {
   "cell_type": "code",
   "execution_count": 10,
   "metadata": {
    "scrolled": true
   },
   "outputs": [
    {
     "data": {
      "text/plain": [
       "Text(0.5, 1.0, '')"
      ]
     },
     "execution_count": 10,
     "metadata": {},
     "output_type": "execute_result"
    },
    {
     "data": {
      "image/png": "[encoded data removed]",
      "text/plain": [
       "<Figure size 1080x1080 with 4 Axes>"
      ]
     },
     "metadata": {
      "needs_background": "light"
     },
     "output_type": "display_data"
    }
   ],
   "source": [
    "#Armamos un gráfico con la estacionalidad\n",
    "\n",
    "grafico = pd.concat([X, y], axis=1)\n",
    "grafico\n",
    "\n",
    "fig1, ax = plt.subplots(4, figsize=(15, 15))\n",
    "\n",
    "\n",
    "ax[0].set_xlabel(\"dayofweek\")\n",
    "ax[1].set_xlabel(\"WeekofMonth\")\n",
    "ax[2].set_xlabel(\"month\")\n",
    "ax[3].set_xlabel(\"quarter\")\n",
    "\n",
    "boxprops = dict(linestyle='-', linewidth=2.5, facecolor = \"#A9DFBF\")\n",
    "medianprops = dict(linestyle='-', linewidth=2.5, color='#446E9B')\n",
    "\n",
    "grafico.boxplot(column=['Quantity'], by= 'dayofweek', ax=ax[0], patch_artist = True,\n",
    "                 showfliers=False, showmeans=False,boxprops=boxprops,medianprops=medianprops)\n",
    "\n",
    "grafico.boxplot(column=['Quantity'], by= 'WeekofMonth', ax=ax[1],patch_artist = True,\n",
    "                 showfliers=False, showmeans=False,boxprops=boxprops,medianprops=medianprops)\n",
    "\n",
    "grafico.boxplot(column=['Quantity'], by= 'month', ax=ax[2],patch_artist = True,\n",
    "                 showfliers=False, showmeans=False,boxprops=boxprops,medianprops=medianprops)\n",
    "\n",
    "grafico.boxplot(column=['Quantity'], by= 'quarter', ax=ax[3],patch_artist = True,\n",
    "                 showfliers=False, showmeans=False,boxprops=boxprops,medianprops=medianprops)\n",
    "\n",
    "ax[0].set_title('')\n",
    "ax[1].set_title('')\n",
    "ax[2].set_title('')\n",
    "ax[3].set_title('')\n",
    "\n"
   ]
  },
  {
   "cell_type": "markdown",
   "metadata": {},
   "source": [
    "### Comentarios\n",
    "\n",
    " - Al analizar la estacionalidad de la venta del producto, puede verse que pareciera no mostrar un comportamiento estacional marcado.\n",
    " - Se puede decir que se vende en menor cantidad los días domingos, que en el mes de octubre se registra los menores niveles de venta.\n",
    " - Vale además mencionarse que quizás la cantidad de datos puede estar influenciando el análisis del comportamiento estacional."
   ]
  },
  {
   "cell_type": "markdown",
   "metadata": {},
   "source": [
    "## Entrenamiento de los modelos\n",
    "### Probamos primero entrenar un modelo RandomForest y obtener las métricas de error"
   ]
  },
  {
   "cell_type": "code",
   "execution_count": 11,
   "metadata": {},
   "outputs": [],
   "source": [
    "# Importo las librerias\n",
    "\n",
    "from sklearn.ensemble import RandomForestRegressor\n",
    "from sklearn.metrics import mean_squared_error\n",
    "from math import sqrt #Para obtener la raiz cuadrada\n",
    "from sklearn.model_selection import cross_val_score\n",
    "from sklearn.model_selection import KFold\n",
    "from sklearn.model_selection import train_test_split\n",
    "from sklearn.inspection import permutation_importance\n",
    "\n"
   ]
  },
  {
   "cell_type": "markdown",
   "metadata": {},
   "source": [
    "## Preprocesado\n",
    "\n",
    "En este proyecto no incluimos por ahora ninguna transformación previa de los datos"
   ]
  },
  {
   "cell_type": "code",
   "execution_count": 12,
   "metadata": {
    "scrolled": true
   },
   "outputs": [
    {
     "name": "stdout",
     "output_type": "stream",
     "text": [
      "          date  hour  dayofweek  quarter  month  year  dayofyear  dayofmonth  \\\n",
      "443529  443529    13          0        4     11  2011        325          21   \n",
      "32520    32520    19          3        4     12  2010        350          16   \n",
      "9122      9122    15          6        4     12  2010        339           5   \n",
      "21109    21109    16          3        4     12  2010        343           9   \n",
      "129028  129028    16          2        1      3  2011         89          30   \n",
      "...        ...   ...        ...      ...    ...   ...        ...         ...   \n",
      "198776  198776    10          1        2      6  2011        158           7   \n",
      "488525  488525    13          2        4     12  2011        341           7   \n",
      "358780  358780    15          2        4     10  2011        285          12   \n",
      "194863  194863    14          3        2      6  2011        153           2   \n",
      "248689  248689    11          2        3      7  2011        201          20   \n",
      "\n",
      "        weekofyear  WeekofMonth  \n",
      "443529          47            4  \n",
      "32520           50            3  \n",
      "9122            48            1  \n",
      "21109           49            2  \n",
      "129028          13            5  \n",
      "...            ...          ...  \n",
      "198776          23            2  \n",
      "488525          49            2  \n",
      "358780          41            3  \n",
      "194863          22            1  \n",
      "248689          29            4  \n",
      "\n",
      "[1739 rows x 10 columns]\n",
      "          date  hour  dayofweek  quarter  month  year  dayofyear  dayofmonth  \\\n",
      "175146  175146    16          4        2      5  2011        133          13   \n",
      "468856  468856    10          2        4     11  2011        334          30   \n",
      "96138    96138    11          0        1      2  2011         59          28   \n",
      "75262    75262    12          3        1      2  2011         34           3   \n",
      "63686    63686    14          6        1      1  2011         23          23   \n",
      "...        ...   ...        ...      ...    ...   ...        ...         ...   \n",
      "46679    46679    13          6        1      1  2011          9           9   \n",
      "74339    74339    14          2        1      2  2011         33           2   \n",
      "176341  176341    12          0        2      5  2011        136          16   \n",
      "84597    84597    10          2        1      2  2011         47          16   \n",
      "430311  430311    10          2        4     11  2011        320          16   \n",
      "\n",
      "        weekofyear  WeekofMonth  \n",
      "175146          19            3  \n",
      "468856          48            5  \n",
      "96138            9            5  \n",
      "75262            5            1  \n",
      "63686            3            4  \n",
      "...            ...          ...  \n",
      "46679            1            2  \n",
      "74339            5            1  \n",
      "176341          20            4  \n",
      "84597            7            3  \n",
      "430311          46            3  \n",
      "\n",
      "[435 rows x 10 columns]\n",
      "443529      2\n",
      "32520       3\n",
      "9122       32\n",
      "21109       4\n",
      "129028      1\n",
      "         ... \n",
      "198776      6\n",
      "488525      3\n",
      "358780      6\n",
      "194863    320\n",
      "248689     10\n",
      "Name: Quantity, Length: 1739, dtype: int64\n",
      "175146     6\n",
      "468856    64\n",
      "96138      2\n",
      "75262      2\n",
      "63686      1\n",
      "          ..\n",
      "46679      6\n",
      "74339      2\n",
      "176341    64\n",
      "84597      6\n",
      "430311     6\n",
      "Name: Quantity, Length: 435, dtype: int64\n"
     ]
    }
   ],
   "source": [
    "# Separamos el dataset en train y test\n",
    "\n",
    "#Obtenemos las divisiones con los predictores estandarizados\n",
    "\n",
    "X_train,X_test,y_train, y_test = train_test_split(X,y,random_state=123, test_size= 0.2)\n",
    "\n",
    "print(X_train)\n",
    "print(X_test)\n",
    "print(y_train)\n",
    "print(y_test)\n",
    "\n",
    "\n"
   ]
  },
  {
   "cell_type": "code",
   "execution_count": 13,
   "metadata": {
    "scrolled": true
   },
   "outputs": [],
   "source": [
    "# Instanciamos el modelo\n",
    "\n",
    "## Por ahora no fijamos ningún hiperparámetro\n",
    "\n",
    "rf = RandomForestRegressor(random_state= 123)\n",
    "\n",
    "\n",
    "#Entrenamos el modelo con los predictores \n",
    "\n",
    "rf = rf.fit(X_train,y_train)\n",
    "\n",
    "#Generamos las predicciones\n",
    "\n",
    "y_predicha = rf.predict(X_test)\n"
   ]
  },
  {
   "cell_type": "markdown",
   "metadata": {},
   "source": [
    "#### Obtenemos las métricas de error"
   ]
  },
  {
   "cell_type": "code",
   "execution_count": 14,
   "metadata": {
    "scrolled": false
   },
   "outputs": [
    {
     "name": "stdout",
     "output_type": "stream",
     "text": [
      "RMSE\n",
      "--------------------------------------------\n",
      "El RMSE obtenido es: 14.85\n",
      "--------------------------------------------\n",
      "Cross Validation\n",
      "--------------------------------------------\n",
      "El RMSE por CV obtenido es: 8.72\n",
      "--------------------------------------------\n",
      "K-folds\n",
      "--------------------------------------------\n",
      "El RMSE por Kfolds obtenido es: 10.91\n",
      "--------------------------------------------\n"
     ]
    }
   ],
   "source": [
    "# Calculamos el rmse\n",
    "\n",
    "np.random.seed(123)\n",
    "\n",
    "rmse = sqrt(mean_squared_error(y_test, y_predicha,squared=False))\n",
    "\n",
    "print(\"RMSE\")\n",
    "print(\"--------------------------------------------\")\n",
    "print(\"El RMSE obtenido es:\", round(rmse,2))\n",
    "print(\"--------------------------------------------\")\n",
    "\n",
    "# Utilizamos validación cruzada para obtener una métrica de error más robusta\n",
    "\n",
    "scores= cross_val_score(rf,X_train,y_train,cv=5, scoring= 'neg_root_mean_squared_error')\n",
    "\n",
    "print(\"Cross Validation\")\n",
    "print(\"--------------------------------------------\")\n",
    "print(\"El RMSE por CV obtenido es:\", round(np.mean(np.sqrt(np.abs(scores))),2))\n",
    "print(\"--------------------------------------------\")\n",
    "\n",
    "\n",
    "#Utilizamos K-folds para obtener las métricas de error\n",
    "\n",
    "# Instancio el iterador\n",
    "kf = KFold(n_splits=5, random_state=123, shuffle=True)\n",
    "\n",
    "#Creo la lista para guardar los scores\n",
    "\n",
    "kf_score = []\n",
    "\n",
    "for i, (train_index, test_index) in enumerate(kf.split(X)):\n",
    "    #print(\"Train Index: \", train_index, \"\\n\")\n",
    "    #print(\"Test Index: \", test_index)\n",
    "    X_train, X_test = X.iloc[train_index,:], X.iloc[test_index,:]\n",
    "    y_train, y_test = y.iloc[train_index],y.iloc[test_index]\n",
    "    rf.fit(X_train, y_train)\n",
    "    kf_score.append(sqrt(mean_squared_error(y_test,rf.predict(X_test),squared=False)))\n",
    "\n",
    "\n",
    "print(\"K-folds\")\n",
    "print(\"--------------------------------------------\")\n",
    "print(\"El RMSE por Kfolds obtenido es:\", round(np.mean(kf_score),2))\n",
    "print(\"--------------------------------------------\")"
   ]
  },
  {
   "cell_type": "code",
   "execution_count": 15,
   "metadata": {
    "scrolled": false
   },
   "outputs": [],
   "source": [
    "#Graficamos los datos de test y predichos mediante el modelo random forest\n",
    "\n",
    "\n",
    "X_test['prediccion'] = rf.predict(X_test)\n",
    "\n",
    "#Agrego el indice de fechas según date y Fecha\n",
    "\n",
    "X_test = X_test.merge(indice_date, left_on='date', right_on='date')\n",
    "\n"
   ]
  },
  {
   "cell_type": "markdown",
   "metadata": {},
   "source": [
    "## Creamos un gráfico con los valores originales y entrenados"
   ]
  },
  {
   "cell_type": "code",
   "execution_count": 16,
   "metadata": {},
   "outputs": [
    {
     "data": {
      "image/png": "[encoded data removed]",
      "text/plain": [
       "<Figure size 864x288 with 1 Axes>"
      ]
     },
     "metadata": {
      "needs_background": "light"
     },
     "output_type": "display_data"
    }
   ],
   "source": [
    "#Armo el gráfico\n",
    "\n",
    "classes = ['Observados', 'Predichos']\n",
    "\n",
    "\n",
    "plt.figure(figsize =(12,4))\n",
    "plt.plot(df['Fecha'], df['Quantity'], color = \"#191C3C\")  # Gráfico de linea datos originales\n",
    "plt.scatter(X_test['Fecha'], X_test['prediccion'], color =  \"#F452E8\",marker= \"+\")#Agrego en puntos los datos predichos\n",
    "plt.xlabel(\"Fecha\")  # Etiqueta eje X\n",
    "plt.ylabel(\"Unidades vendidas \\n(miles)\")   # Etiqueta eje y\n",
    "plt.title(\"Ventas del producto\") #Titulo\n",
    "#plt.xticks(rotation = 90,fontsize='8', horizontalalignment='center') #Roto las etiquetas del eje x\n",
    "plt.legend(labels=classes)\n",
    "plt.show()  # display"
   ]
  },
  {
   "cell_type": "markdown",
   "metadata": {},
   "source": [
    "### Por ultimo analizamos la importancia de los predictores"
   ]
  },
  {
   "cell_type": "code",
   "execution_count": 17,
   "metadata": {
    "scrolled": true
   },
   "outputs": [
    {
     "data": {
      "text/html": [
       "<div>\n",
       "<style scoped>\n",
       "    .dataframe tbody tr th:only-of-type {\n",
       "        vertical-align: middle;\n",
       "    }\n",
       "\n",
       "    .dataframe tbody tr th {\n",
       "        vertical-align: top;\n",
       "    }\n",
       "\n",
       "    .dataframe thead th {\n",
       "        text-align: right;\n",
       "    }\n",
       "</style>\n",
       "<table border=\"1\" class=\"dataframe\">\n",
       "  <thead>\n",
       "    <tr style=\"text-align: right;\">\n",
       "      <th></th>\n",
       "      <th>predictor</th>\n",
       "      <th>importancia</th>\n",
       "    </tr>\n",
       "  </thead>\n",
       "  <tbody>\n",
       "    <tr>\n",
       "      <th>0</th>\n",
       "      <td>date</td>\n",
       "      <td>0.405575</td>\n",
       "    </tr>\n",
       "    <tr>\n",
       "      <th>1</th>\n",
       "      <td>hour</td>\n",
       "      <td>0.198527</td>\n",
       "    </tr>\n",
       "    <tr>\n",
       "      <th>2</th>\n",
       "      <td>dayofweek</td>\n",
       "      <td>0.119275</td>\n",
       "    </tr>\n",
       "    <tr>\n",
       "      <th>7</th>\n",
       "      <td>dayofmonth</td>\n",
       "      <td>0.097167</td>\n",
       "    </tr>\n",
       "    <tr>\n",
       "      <th>8</th>\n",
       "      <td>weekofyear</td>\n",
       "      <td>0.064291</td>\n",
       "    </tr>\n",
       "    <tr>\n",
       "      <th>6</th>\n",
       "      <td>dayofyear</td>\n",
       "      <td>0.048377</td>\n",
       "    </tr>\n",
       "    <tr>\n",
       "      <th>3</th>\n",
       "      <td>quarter</td>\n",
       "      <td>0.026167</td>\n",
       "    </tr>\n",
       "    <tr>\n",
       "      <th>4</th>\n",
       "      <td>month</td>\n",
       "      <td>0.025431</td>\n",
       "    </tr>\n",
       "    <tr>\n",
       "      <th>9</th>\n",
       "      <td>WeekofMonth</td>\n",
       "      <td>0.015171</td>\n",
       "    </tr>\n",
       "    <tr>\n",
       "      <th>5</th>\n",
       "      <td>year</td>\n",
       "      <td>0.000017</td>\n",
       "    </tr>\n",
       "  </tbody>\n",
       "</table>\n",
       "</div>"
      ],
      "text/plain": [
       "     predictor  importancia\n",
       "0         date     0.405575\n",
       "1         hour     0.198527\n",
       "2    dayofweek     0.119275\n",
       "7   dayofmonth     0.097167\n",
       "8   weekofyear     0.064291\n",
       "6    dayofyear     0.048377\n",
       "3      quarter     0.026167\n",
       "4        month     0.025431\n",
       "9  WeekofMonth     0.015171\n",
       "5         year     0.000017"
      ]
     },
     "execution_count": 17,
     "metadata": {},
     "output_type": "execute_result"
    }
   ],
   "source": [
    "importancia_predictores = pd.DataFrame(\n",
    "                            {'predictor':X.columns,\n",
    "                             'importancia':rf.feature_importances_}\n",
    "                            )\n",
    "importancia_predictores.sort_values('importancia', ascending=False)"
   ]
  },
  {
   "cell_type": "markdown",
   "metadata": {},
   "source": [
    "# Probamos con un modelo XGBoost"
   ]
  },
  {
   "cell_type": "code",
   "execution_count": 18,
   "metadata": {},
   "outputs": [],
   "source": [
    "np.random.seed(123)\n",
    "\n",
    "#Dividimos el dataset\n",
    "\n",
    "X_train,X_test,y_train, y_test = train_test_split(X,y,random_state=123, test_size= 0.2)\n",
    "\n",
    "\n",
    "# Importamos la libreria\n",
    "\n",
    "import xgboost as xgb\n",
    "\n",
    "xgb_model = xgb.XGBRegressor(random_state=123)\n",
    "\n",
    "\n",
    "#Entrenamos el modelo\n",
    "\n",
    "xgb = xgb_model.fit(X_train,y_train)\n",
    "\n",
    "\n",
    "#Obtenemos las predicciones\n",
    "\n",
    "y_predicha_xgboost = xgb.predict(X_test)"
   ]
  },
  {
   "cell_type": "markdown",
   "metadata": {},
   "source": [
    "## Obtenemos las métricas de error"
   ]
  },
  {
   "cell_type": "code",
   "execution_count": 19,
   "metadata": {
    "scrolled": true
   },
   "outputs": [
    {
     "name": "stdout",
     "output_type": "stream",
     "text": [
      "RMSE\n",
      "--------------------------------------------\n",
      "El RMSE obtenido es: 14.94\n",
      "--------------------------------------------\n",
      "Cross Validation\n",
      "--------------------------------------------\n",
      "El RMSE por CV obtenido es: 9.59\n",
      "--------------------------------------------\n",
      "K-folds\n",
      "--------------------------------------------\n",
      "El RMSE por Kfolds obtenido es: 12.43\n",
      "--------------------------------------------\n"
     ]
    }
   ],
   "source": [
    "# Calculamos el rmse\n",
    "\n",
    "np.random.seed(123)\n",
    "\n",
    "rmse = sqrt(mean_squared_error(y_test, y_predicha_xgboost,squared=False))\n",
    "\n",
    "print(\"RMSE\")\n",
    "print(\"--------------------------------------------\")\n",
    "print(\"El RMSE obtenido es:\", round(rmse,2))\n",
    "print(\"--------------------------------------------\")\n",
    "\n",
    "# Utilizamos validación cruzada para obtener una métrica de error más robusta\n",
    "\n",
    "scores= cross_val_score(xgb_model,X_train,y_train,cv=5, scoring= 'neg_root_mean_squared_error')\n",
    "\n",
    "print(\"Cross Validation\")\n",
    "print(\"--------------------------------------------\")\n",
    "print(\"El RMSE por CV obtenido es:\", round(np.mean(np.sqrt(np.abs(scores))),2))\n",
    "print(\"--------------------------------------------\")\n",
    "\n",
    "#Utilizamos K-folds para obtener las métricas de error\n",
    "\n",
    "# Instancio el iterador\n",
    "kf = KFold(n_splits=5, random_state=123, shuffle=True)\n",
    "\n",
    "#Creo la lista para guardar los scores\n",
    "\n",
    "kf_score = []\n",
    "\n",
    "for i, (train_index, test_index) in enumerate(kf.split(X)):\n",
    "    #print(\"Train Index: \", train_index, \"\\n\")\n",
    "    #print(\"Test Index: \", test_index)\n",
    "    X_train, X_test = X.iloc[train_index,:], X.iloc[test_index,:]\n",
    "    y_train, y_test = y.iloc[train_index],y.iloc[test_index]\n",
    "    xgb_model.fit(X_train, y_train)\n",
    "    kf_score.append(sqrt(mean_squared_error(y_test, xgb.predict(X_test),squared=False)))\n",
    "\n",
    "    \n",
    "print(\"K-folds\")\n",
    "print(\"--------------------------------------------\")\n",
    "print(\"El RMSE por Kfolds obtenido es:\", round(np.mean(kf_score),2))\n",
    "print(\"--------------------------------------------\")  "
   ]
  },
  {
   "cell_type": "markdown",
   "metadata": {},
   "source": [
    "### ¿Que diferencia existe entre cross_val_score y K-Folds?\n",
    "\n",
    "   - Ambos representan una **estrategia para obtener métricas de ajuste del modelo más adecuada**s a las que obtenemos cuando usamos siempre el mismo conjunto de test. Ambas, dividen nuestro conjunto de datos en *n* subconjuntos de test y de train lo que robustece las métricas de error.\n",
    "   - La diferencia radica en que con **cross_val_score** representa la manera más sencilla de usar la validación. En este procedimiento, se divide el conjunto de datos *n* veces, ajustando un modelo y calculando la puntuación n veces consecutivas, con diferentes divisiones cada vez.\n",
    "   - **K-Folds** divide todas las muestras en subconjuntos llamados pliegues. La función de predicción se aprende usando K-1 pliegues, y el pliegue que queda fuera se utiliza para la validación."
   ]
  },
  {
   "cell_type": "code",
   "execution_count": 20,
   "metadata": {},
   "outputs": [],
   "source": [
    "#Graficamos los datos de test y predichos mediante el modelo random forest\n",
    "\n",
    "X_test['prediccion'] = xgb_model.predict(X_test)\n",
    "\n",
    "#Agrego el indice de fechas según date y Fecha\n",
    "\n",
    "X_test = X_test.merge(indice_date, left_on='date', right_on='date')\n"
   ]
  },
  {
   "cell_type": "code",
   "execution_count": 21,
   "metadata": {
    "scrolled": false
   },
   "outputs": [
    {
     "data": {
      "image/png": "[encoded data removed]",
      "text/plain": [
       "<Figure size 864x288 with 1 Axes>"
      ]
     },
     "metadata": {
      "needs_background": "light"
     },
     "output_type": "display_data"
    }
   ],
   "source": [
    "#Armo el gráfico\n",
    "\n",
    "classes = ['Observados', 'Predichos']\n",
    "\n",
    "\n",
    "plt.figure(figsize =(12,4))\n",
    "plt.plot(df['Fecha'], df['Quantity'], color = \"#191C3C\")  # Gráfico de linea datos originales\n",
    "plt.scatter(X_test['Fecha'], X_test['prediccion'], color =  \"#F452E8\",marker= \"+\")#Agrego en puntos los datos predichos\n",
    "plt.xlabel(\"Fecha\")  # Etiqueta eje X\n",
    "plt.ylabel(\"Unidades vendidas \\n(miles)\")   # Etiqueta eje y\n",
    "plt.title(\"Ventas del producto\") #Titulo\n",
    "#plt.xticks(rotation = 90,fontsize='8', horizontalalignment='center') #Roto las etiquetas del eje x\n",
    "plt.legend(labels=classes)\n",
    "plt.show()  # display"
   ]
  },
  {
   "cell_type": "markdown",
   "metadata": {},
   "source": [
    "### Obtenemos la importancia de los predictores"
   ]
  },
  {
   "cell_type": "code",
   "execution_count": 22,
   "metadata": {},
   "outputs": [
    {
     "data": {
      "text/html": [
       "<div>\n",
       "<style scoped>\n",
       "    .dataframe tbody tr th:only-of-type {\n",
       "        vertical-align: middle;\n",
       "    }\n",
       "\n",
       "    .dataframe tbody tr th {\n",
       "        vertical-align: top;\n",
       "    }\n",
       "\n",
       "    .dataframe thead th {\n",
       "        text-align: right;\n",
       "    }\n",
       "</style>\n",
       "<table border=\"1\" class=\"dataframe\">\n",
       "  <thead>\n",
       "    <tr style=\"text-align: right;\">\n",
       "      <th></th>\n",
       "      <th>predictor</th>\n",
       "      <th>importancia</th>\n",
       "    </tr>\n",
       "  </thead>\n",
       "  <tbody>\n",
       "    <tr>\n",
       "      <th>2</th>\n",
       "      <td>dayofweek</td>\n",
       "      <td>0.566443</td>\n",
       "    </tr>\n",
       "    <tr>\n",
       "      <th>7</th>\n",
       "      <td>dayofmonth</td>\n",
       "      <td>0.152793</td>\n",
       "    </tr>\n",
       "    <tr>\n",
       "      <th>1</th>\n",
       "      <td>hour</td>\n",
       "      <td>0.136983</td>\n",
       "    </tr>\n",
       "    <tr>\n",
       "      <th>6</th>\n",
       "      <td>dayofyear</td>\n",
       "      <td>0.065532</td>\n",
       "    </tr>\n",
       "    <tr>\n",
       "      <th>0</th>\n",
       "      <td>date</td>\n",
       "      <td>0.060821</td>\n",
       "    </tr>\n",
       "    <tr>\n",
       "      <th>9</th>\n",
       "      <td>WeekofMonth</td>\n",
       "      <td>0.010067</td>\n",
       "    </tr>\n",
       "    <tr>\n",
       "      <th>3</th>\n",
       "      <td>quarter</td>\n",
       "      <td>0.005233</td>\n",
       "    </tr>\n",
       "    <tr>\n",
       "      <th>4</th>\n",
       "      <td>month</td>\n",
       "      <td>0.002127</td>\n",
       "    </tr>\n",
       "    <tr>\n",
       "      <th>5</th>\n",
       "      <td>year</td>\n",
       "      <td>0.000000</td>\n",
       "    </tr>\n",
       "    <tr>\n",
       "      <th>8</th>\n",
       "      <td>weekofyear</td>\n",
       "      <td>0.000000</td>\n",
       "    </tr>\n",
       "  </tbody>\n",
       "</table>\n",
       "</div>"
      ],
      "text/plain": [
       "     predictor  importancia\n",
       "2    dayofweek     0.566443\n",
       "7   dayofmonth     0.152793\n",
       "1         hour     0.136983\n",
       "6    dayofyear     0.065532\n",
       "0         date     0.060821\n",
       "9  WeekofMonth     0.010067\n",
       "3      quarter     0.005233\n",
       "4        month     0.002127\n",
       "5         year     0.000000\n",
       "8   weekofyear     0.000000"
      ]
     },
     "execution_count": 22,
     "metadata": {},
     "output_type": "execute_result"
    }
   ],
   "source": [
    "importancia_predictores = pd.DataFrame(\n",
    "                            {'predictor':X.columns,\n",
    "                             'importancia':xgb.feature_importances_}\n",
    "                            )\n",
    "importancia_predictores.sort_values('importancia', ascending=False)"
   ]
  },
  {
   "cell_type": "markdown",
   "metadata": {},
   "source": [
    "## Optimizamos los hiperparámetros del modelo"
   ]
  },
  {
   "cell_type": "code",
   "execution_count": 24,
   "metadata": {
    "scrolled": true
   },
   "outputs": [],
   "source": [
    "### Optimizamos el parámetro max_depth, utlizando GridSeacrhCV\n",
    "\n",
    "from sklearn.model_selection import GridSearchCV #grid search\n",
    "import xgboost as xgb\n",
    "\n",
    "#generamos una semilla aleatoria\n",
    "\n",
    "np.random.seed(123)\n",
    "\n",
    "#Armamos la cuadricula de hiperparametros\n",
    "\n",
    "param_grid = { 'max_depth': [3, 5, 10],\n",
    "           'learning_rate': [0.01, 0.1],\n",
    "           #'subsample': np.arange(0.5, 1.0, 0.1),\n",
    "           #'colsample_bytree': np.arange(0.4, 1.0, 0.1),\n",
    "           #'colsample_bylevel': np.arange(0.4, 1.0, 0.1),\n",
    "           'n_estimators': [100, 500]}\n",
    "\n",
    "#Modelo\n",
    "\n",
    "xgb_model = xgb.XGBRegressor()\n",
    "\n",
    "model_grid = GridSearchCV(estimator=xgb_model, param_grid=param_grid, cv= 5, refit= True)\n",
    "\n",
    "#Entrenamos el modelo con datos preprocesados\n",
    "\n",
    "model_grid_fit = model_grid.fit(X_train, y_train)\n"
   ]
  },
  {
   "cell_type": "code",
   "execution_count": 25,
   "metadata": {
    "scrolled": true
   },
   "outputs": [
    {
     "name": "stdout",
     "output_type": "stream",
     "text": [
      "Mejores parámetros optimizados\n",
      "--------------------------------------------\n",
      "{'learning_rate': 0.01, 'max_depth': 3, 'n_estimators': 100}\n",
      "--------------------------------------------\n"
     ]
    }
   ],
   "source": [
    "#Buscamos el mejor estimador\n",
    "\n",
    "print(\"Mejores parámetros optimizados\")\n",
    "print(\"--------------------------------------------\")\n",
    "print(model_grid_fit.best_params_)\n",
    "print(\"--------------------------------------------\")"
   ]
  },
  {
   "cell_type": "code",
   "execution_count": 26,
   "metadata": {
    "scrolled": true
   },
   "outputs": [
    {
     "data": {
      "text/html": [
       "<div>\n",
       "<style scoped>\n",
       "    .dataframe tbody tr th:only-of-type {\n",
       "        vertical-align: middle;\n",
       "    }\n",
       "\n",
       "    .dataframe tbody tr th {\n",
       "        vertical-align: top;\n",
       "    }\n",
       "\n",
       "    .dataframe thead th {\n",
       "        text-align: right;\n",
       "    }\n",
       "</style>\n",
       "<table border=\"1\" class=\"dataframe\">\n",
       "  <thead>\n",
       "    <tr style=\"text-align: right;\">\n",
       "      <th></th>\n",
       "      <th>param_learning_rate</th>\n",
       "      <th>param_max_depth</th>\n",
       "      <th>param_n_estimators</th>\n",
       "      <th>mean_test_score</th>\n",
       "      <th>std_test_score</th>\n",
       "    </tr>\n",
       "  </thead>\n",
       "  <tbody>\n",
       "    <tr>\n",
       "      <th>0</th>\n",
       "      <td>0.01</td>\n",
       "      <td>3</td>\n",
       "      <td>100</td>\n",
       "      <td>-0.038878</td>\n",
       "      <td>0.049509</td>\n",
       "    </tr>\n",
       "    <tr>\n",
       "      <th>6</th>\n",
       "      <td>0.1</td>\n",
       "      <td>3</td>\n",
       "      <td>100</td>\n",
       "      <td>-0.111631</td>\n",
       "      <td>0.158035</td>\n",
       "    </tr>\n",
       "    <tr>\n",
       "      <th>1</th>\n",
       "      <td>0.01</td>\n",
       "      <td>3</td>\n",
       "      <td>500</td>\n",
       "      <td>-0.120732</td>\n",
       "      <td>0.209815</td>\n",
       "    </tr>\n",
       "    <tr>\n",
       "      <th>7</th>\n",
       "      <td>0.1</td>\n",
       "      <td>3</td>\n",
       "      <td>500</td>\n",
       "      <td>-0.180752</td>\n",
       "      <td>0.257420</td>\n",
       "    </tr>\n",
       "    <tr>\n",
       "      <th>2</th>\n",
       "      <td>0.01</td>\n",
       "      <td>5</td>\n",
       "      <td>100</td>\n",
       "      <td>-0.215320</td>\n",
       "      <td>0.189559</td>\n",
       "    </tr>\n",
       "    <tr>\n",
       "      <th>3</th>\n",
       "      <td>0.01</td>\n",
       "      <td>5</td>\n",
       "      <td>500</td>\n",
       "      <td>-0.530984</td>\n",
       "      <td>0.698396</td>\n",
       "    </tr>\n",
       "    <tr>\n",
       "      <th>8</th>\n",
       "      <td>0.1</td>\n",
       "      <td>5</td>\n",
       "      <td>100</td>\n",
       "      <td>-0.656641</td>\n",
       "      <td>0.731440</td>\n",
       "    </tr>\n",
       "    <tr>\n",
       "      <th>9</th>\n",
       "      <td>0.1</td>\n",
       "      <td>5</td>\n",
       "      <td>500</td>\n",
       "      <td>-1.048015</td>\n",
       "      <td>1.025410</td>\n",
       "    </tr>\n",
       "    <tr>\n",
       "      <th>4</th>\n",
       "      <td>0.01</td>\n",
       "      <td>10</td>\n",
       "      <td>100</td>\n",
       "      <td>-1.153503</td>\n",
       "      <td>1.987344</td>\n",
       "    </tr>\n",
       "    <tr>\n",
       "      <th>5</th>\n",
       "      <td>0.01</td>\n",
       "      <td>10</td>\n",
       "      <td>500</td>\n",
       "      <td>-6.291747</td>\n",
       "      <td>10.688292</td>\n",
       "    </tr>\n",
       "    <tr>\n",
       "      <th>10</th>\n",
       "      <td>0.1</td>\n",
       "      <td>10</td>\n",
       "      <td>100</td>\n",
       "      <td>-7.334042</td>\n",
       "      <td>11.740252</td>\n",
       "    </tr>\n",
       "    <tr>\n",
       "      <th>11</th>\n",
       "      <td>0.1</td>\n",
       "      <td>10</td>\n",
       "      <td>500</td>\n",
       "      <td>-7.410271</td>\n",
       "      <td>11.745479</td>\n",
       "    </tr>\n",
       "  </tbody>\n",
       "</table>\n",
       "</div>"
      ],
      "text/plain": [
       "   param_learning_rate param_max_depth param_n_estimators  mean_test_score  \\\n",
       "0                 0.01               3                100        -0.038878   \n",
       "6                  0.1               3                100        -0.111631   \n",
       "1                 0.01               3                500        -0.120732   \n",
       "7                  0.1               3                500        -0.180752   \n",
       "2                 0.01               5                100        -0.215320   \n",
       "3                 0.01               5                500        -0.530984   \n",
       "8                  0.1               5                100        -0.656641   \n",
       "9                  0.1               5                500        -1.048015   \n",
       "4                 0.01              10                100        -1.153503   \n",
       "5                 0.01              10                500        -6.291747   \n",
       "10                 0.1              10                100        -7.334042   \n",
       "11                 0.1              10                500        -7.410271   \n",
       "\n",
       "    std_test_score  \n",
       "0         0.049509  \n",
       "6         0.158035  \n",
       "1         0.209815  \n",
       "7         0.257420  \n",
       "2         0.189559  \n",
       "3         0.698396  \n",
       "8         0.731440  \n",
       "9         1.025410  \n",
       "4         1.987344  \n",
       "5        10.688292  \n",
       "10       11.740252  \n",
       "11       11.745479  "
      ]
     },
     "execution_count": 26,
     "metadata": {},
     "output_type": "execute_result"
    }
   ],
   "source": [
    "#Vemos los errores\n",
    "\n",
    "resultados = pd.DataFrame(model_grid_fit.cv_results_)\n",
    "resultados.filter(regex = '(param*|mean_t|std_t)') \\\n",
    "    .drop(columns = 'params') \\\n",
    "    .sort_values('mean_test_score', ascending = False)"
   ]
  },
  {
   "cell_type": "markdown",
   "metadata": {},
   "source": [
    "## Rentrenamos el modelo con los parámetros optimizados"
   ]
  },
  {
   "cell_type": "code",
   "execution_count": 27,
   "metadata": {},
   "outputs": [],
   "source": [
    "np.random.seed(123)\n",
    "\n",
    "#Dividimos el dataset\n",
    "\n",
    "X_train,X_test,y_train, y_test = train_test_split(X,y,random_state=123, test_size= 0.2)\n",
    "\n",
    "\n",
    "# Importamos la libreria\n",
    "\n",
    "import xgboost as xgb\n",
    "\n",
    "xgb_model = xgb.XGBRegressor(random_state=123, learning_rate= 0.01, max_depth= 3, n_estimators=100)\n",
    "\n",
    "\n",
    "#Entrenamos el modelo\n",
    "\n",
    "xgb_opt = xgb_model.fit(X_train,y_train)\n",
    "\n",
    "\n",
    "#Obtenemos las predicciones\n",
    "\n",
    "y_predicha_xgboost_opt =xgb_opt.predict(X_test)\n",
    "\n"
   ]
  },
  {
   "cell_type": "markdown",
   "metadata": {},
   "source": [
    "### Obtenemos las métricas de error con los parámetros optimizados"
   ]
  },
  {
   "cell_type": "code",
   "execution_count": 28,
   "metadata": {
    "scrolled": false
   },
   "outputs": [
    {
     "name": "stdout",
     "output_type": "stream",
     "text": [
      "RMSE\n",
      "--------------------------------------------\n",
      "El RMSE obtenido es: 14.81\n",
      "--------------------------------------------\n",
      "Cross Validation\n",
      "--------------------------------------------\n",
      "El RMSE por CV obtenido es: 7.49\n",
      "--------------------------------------------\n",
      "K-folds\n",
      "--------------------------------------------\n",
      "El RMSE por Kfolds obtenido es: 9.2\n",
      "--------------------------------------------\n"
     ]
    }
   ],
   "source": [
    "# Calculamos el rmse\n",
    "\n",
    "np.random.seed(123)\n",
    "\n",
    "rmse = sqrt(mean_squared_error(y_test, y_predicha_xgboost_opt,squared=False))\n",
    "rmse\n",
    "\n",
    "print(\"RMSE\")\n",
    "print(\"--------------------------------------------\")\n",
    "print(\"El RMSE obtenido es:\", round(rmse,2))\n",
    "print(\"--------------------------------------------\")\n",
    "\n",
    "# Utilizamos validación cruzada para obtener una métrica de error más robusta\n",
    "\n",
    "scores= cross_val_score(xgb_opt,X_train,y_train,cv=5, scoring= 'neg_root_mean_squared_error')\n",
    "\n",
    "print(\"Cross Validation\")\n",
    "print(\"--------------------------------------------\")\n",
    "print(\"El RMSE por CV obtenido es:\", round(np.mean(np.sqrt(np.abs(scores))),2))\n",
    "print(\"--------------------------------------------\")\n",
    "\n",
    "#Utilizamos K-folds para obtener las métricas de error\n",
    "\n",
    "# Instancio el iterador\n",
    "kf = KFold(n_splits=5, random_state=123, shuffle=True)\n",
    "\n",
    "#Creo la lista para guardar los scores\n",
    "\n",
    "kf_score = []\n",
    "\n",
    "for i, (train_index, test_index) in enumerate(kf.split(X)):\n",
    "    #print(\"Train Index: \", train_index, \"\\n\")\n",
    "    #print(\"Test Index: \", test_index)\n",
    "    X_train, X_test = X.iloc[train_index,:], X.iloc[test_index,:]\n",
    "    y_train, y_test = y.iloc[train_index],y.iloc[test_index]\n",
    "    xgb_model.fit(X_train, y_train)\n",
    "    kf_score.append(sqrt(mean_squared_error(y_test, xgb_opt.predict(X_test),squared=False)))\n",
    "\n",
    "    \n",
    "print(\"K-folds\")\n",
    "print(\"--------------------------------------------\")\n",
    "print(\"El RMSE por Kfolds obtenido es:\", round(np.mean(kf_score),2))\n",
    "print(\"--------------------------------------------\")  "
   ]
  },
  {
   "cell_type": "markdown",
   "metadata": {},
   "source": [
    "### Comentarios del proceso de entrenamiento\n",
    "\n",
    "  - Utilizamos diferentes estrategias para obtener las métricas de error: el RMSE desde el dataset de train y test, el RMSE desde el score mediante cross validation y el RMSE obtenido por K-Folds.\n",
    "  - Obtuvimos métricas de error menores con el Modelo Random Forest vs el modelo XGBoost.\n",
    "  - En el modelo Random Forest el predictor con mayor importancia fue la fecha de la venta, ne cambio en el modelo XGBoost muestra igual importancia la fecha de la venta como el dia del mes.\n",
    "  - Luego **optimizamos los hiperparámetros** del modelo XGBoost lo que nos dió como resultado un menor RMSE que el obtenido con el modelo sin optimizar.\n",
    "  \n",
    "\n"
   ]
  },
  {
   "cell_type": "markdown",
   "metadata": {},
   "source": [
    "## Guardamos el modelo entrenado"
   ]
  },
  {
   "cell_type": "code",
   "execution_count": 29,
   "metadata": {},
   "outputs": [],
   "source": [
    "import pickle\n",
    "\n",
    "filename = 'ForecastXGBoost.pkl'\n",
    "\n",
    "pickle.dump(xgb_opt, open(filename, 'wb'))\n"
   ]
  },
  {
   "cell_type": "markdown",
   "metadata": {},
   "source": [
    "## Modelo en producción"
   ]
  },
  {
   "cell_type": "markdown",
   "metadata": {},
   "source": [
    "### Cargamos nuestro modelo guardado y predecimos las ventas desde la fecha actual y hasta fin de mes"
   ]
  },
  {
   "cell_type": "code",
   "execution_count": 57,
   "metadata": {
    "scrolled": false
   },
   "outputs": [
    {
     "name": "stderr",
     "output_type": "stream",
     "text": [
      "<ipython-input-6-0eb3bc70c0c2>:17: FutureWarning: Series.dt.weekofyear and Series.dt.week have been deprecated.  Please use Series.dt.isocalendar().week instead.\n",
      "  df['weekofyear'] = df['InvoiceDate'].dt.weekofyear\n"
     ]
    }
   ],
   "source": [
    "# Calculamos las features temporales\n",
    "\n",
    "#Creamos los dataset X e Y\n",
    "\n",
    "predicciones,ventas,date_indices = create_features(fechas,label= 'InvoiceDate')\n",
    "\n",
    "\n",
    "#Agregamos la semana del mes\n",
    "\n",
    "#Creo una función para calcular la semana del mes. Las funciones por default calcular la semana del año.\n",
    "\n",
    "def week_of_month(dt):\n",
    "    \"\"\" Retorna la semana del mes para una fecha especificada.\n",
    "    \"\"\" \n",
    "    \n",
    "    # Fijo el dia inicial del mes\n",
    "    first_day = dt.replace(day=1)\n",
    "    # Seteo el dia de la semana de la fecha especificada\n",
    "    dom = dt.day\n",
    "    \n",
    "    # Sumo  el dia de la semana de la fecha especificada + el valor de dia de la semana\n",
    "    adjusted_dom = dom + first_day.weekday()\n",
    "\n",
    "    # Dvido por 7 y redondeo\n",
    "    return int(ceil(adjusted_dom/7.0))\n"
   ]
  },
  {
   "cell_type": "markdown",
   "metadata": {},
   "source": [
    "## Importamos el modelo"
   ]
  },
  {
   "cell_type": "code",
   "execution_count": 64,
   "metadata": {
    "scrolled": true
   },
   "outputs": [
    {
     "data": {
      "text/html": [
       "<div>\n",
       "<style scoped>\n",
       "    .dataframe tbody tr th:only-of-type {\n",
       "        vertical-align: middle;\n",
       "    }\n",
       "\n",
       "    .dataframe tbody tr th {\n",
       "        vertical-align: top;\n",
       "    }\n",
       "\n",
       "    .dataframe thead th {\n",
       "        text-align: right;\n",
       "    }\n",
       "</style>\n",
       "<table border=\"1\" class=\"dataframe\">\n",
       "  <thead>\n",
       "    <tr style=\"text-align: right;\">\n",
       "      <th></th>\n",
       "      <th>Fecha</th>\n",
       "      <th>ventas_predichas</th>\n",
       "    </tr>\n",
       "  </thead>\n",
       "  <tbody>\n",
       "    <tr>\n",
       "      <th>0</th>\n",
       "      <td>2023-04-11</td>\n",
       "      <td>9.68</td>\n",
       "    </tr>\n",
       "    <tr>\n",
       "      <th>1</th>\n",
       "      <td>2023-04-12</td>\n",
       "      <td>9.63</td>\n",
       "    </tr>\n",
       "    <tr>\n",
       "      <th>2</th>\n",
       "      <td>2023-04-13</td>\n",
       "      <td>12.40</td>\n",
       "    </tr>\n",
       "    <tr>\n",
       "      <th>3</th>\n",
       "      <td>2023-04-14</td>\n",
       "      <td>9.51</td>\n",
       "    </tr>\n",
       "    <tr>\n",
       "      <th>4</th>\n",
       "      <td>2023-04-15</td>\n",
       "      <td>9.51</td>\n",
       "    </tr>\n",
       "    <tr>\n",
       "      <th>5</th>\n",
       "      <td>2023-04-16</td>\n",
       "      <td>9.51</td>\n",
       "    </tr>\n",
       "    <tr>\n",
       "      <th>6</th>\n",
       "      <td>2023-04-17</td>\n",
       "      <td>9.68</td>\n",
       "    </tr>\n",
       "    <tr>\n",
       "      <th>7</th>\n",
       "      <td>2023-04-18</td>\n",
       "      <td>9.68</td>\n",
       "    </tr>\n",
       "    <tr>\n",
       "      <th>8</th>\n",
       "      <td>2023-04-19</td>\n",
       "      <td>9.63</td>\n",
       "    </tr>\n",
       "    <tr>\n",
       "      <th>9</th>\n",
       "      <td>2023-04-20</td>\n",
       "      <td>12.40</td>\n",
       "    </tr>\n",
       "    <tr>\n",
       "      <th>10</th>\n",
       "      <td>2023-04-21</td>\n",
       "      <td>9.51</td>\n",
       "    </tr>\n",
       "    <tr>\n",
       "      <th>11</th>\n",
       "      <td>2023-04-22</td>\n",
       "      <td>9.51</td>\n",
       "    </tr>\n",
       "    <tr>\n",
       "      <th>12</th>\n",
       "      <td>2023-04-23</td>\n",
       "      <td>9.51</td>\n",
       "    </tr>\n",
       "    <tr>\n",
       "      <th>13</th>\n",
       "      <td>2023-04-24</td>\n",
       "      <td>9.85</td>\n",
       "    </tr>\n",
       "    <tr>\n",
       "      <th>14</th>\n",
       "      <td>2023-04-25</td>\n",
       "      <td>9.85</td>\n",
       "    </tr>\n",
       "    <tr>\n",
       "      <th>15</th>\n",
       "      <td>2023-04-26</td>\n",
       "      <td>9.80</td>\n",
       "    </tr>\n",
       "    <tr>\n",
       "      <th>16</th>\n",
       "      <td>2023-04-27</td>\n",
       "      <td>12.57</td>\n",
       "    </tr>\n",
       "    <tr>\n",
       "      <th>17</th>\n",
       "      <td>2023-04-28</td>\n",
       "      <td>10.98</td>\n",
       "    </tr>\n",
       "    <tr>\n",
       "      <th>18</th>\n",
       "      <td>2023-04-29</td>\n",
       "      <td>10.98</td>\n",
       "    </tr>\n",
       "    <tr>\n",
       "      <th>19</th>\n",
       "      <td>2023-04-30</td>\n",
       "      <td>10.98</td>\n",
       "    </tr>\n",
       "  </tbody>\n",
       "</table>\n",
       "</div>"
      ],
      "text/plain": [
       "         Fecha  ventas_predichas\n",
       "0   2023-04-11              9.68\n",
       "1   2023-04-12              9.63\n",
       "2   2023-04-13             12.40\n",
       "3   2023-04-14              9.51\n",
       "4   2023-04-15              9.51\n",
       "5   2023-04-16              9.51\n",
       "6   2023-04-17              9.68\n",
       "7   2023-04-18              9.68\n",
       "8   2023-04-19              9.63\n",
       "9   2023-04-20             12.40\n",
       "10  2023-04-21              9.51\n",
       "11  2023-04-22              9.51\n",
       "12  2023-04-23              9.51\n",
       "13  2023-04-24              9.85\n",
       "14  2023-04-25              9.85\n",
       "15  2023-04-26              9.80\n",
       "16  2023-04-27             12.57\n",
       "17  2023-04-28             10.98\n",
       "18  2023-04-29             10.98\n",
       "19  2023-04-30             10.98"
      ]
     },
     "execution_count": 64,
     "metadata": {},
     "output_type": "execute_result"
    }
   ],
   "source": [
    "import pickle\n",
    "\n",
    "#Plantamos la semilla aleatoria\n",
    "\n",
    "np.random.seed(123)\n",
    "\n",
    "\n",
    "filename = 'ForecastXGBoost.pkl'\n",
    "\n",
    "loaded_model = pickle.load(open(filename, 'rb'))\n",
    "\n",
    "ventas_predichas = loaded_model.predict(predicciones)\n",
    "\n",
    "fechas['ventas_predichas'] = np.around(ventas_predichas,decimals=2)\n",
    "fechas"
   ]
  },
  {
   "cell_type": "code",
   "execution_count": 70,
   "metadata": {},
   "outputs": [
    {
     "data": {
      "image/png": "[encoded data removed]",
      "text/plain": [
       "<Figure size 864x288 with 1 Axes>"
      ]
     },
     "metadata": {
      "needs_background": "light"
     },
     "output_type": "display_data"
    }
   ],
   "source": [
    "## Graficamos nuestros resultados\n",
    "\n",
    "plt.figure(figsize =(12,4))\n",
    "plt.plot(fechas['Fecha'], fechas['ventas_predichas'], color = \"#2ca25f\")  # Gráfico de linea datos originales\n",
    "plt.xlabel(\"Fecha\")  # Etiqueta eje X\n",
    "plt.ylabel(\"Unidades vendidas\")   # Etiqueta eje y\n",
    "plt.title(\"Forecast de ventas del producto\") #Titulo\n",
    "plt.show()  # display"
   ]
  },
  {
   "cell_type": "markdown",
   "metadata": {},
   "source": [
    "## Bibliografía\n",
    "\n",
    "  - **Ejemplo 1:** [link](https://towardsdatascience.com/xgboost-fine-tune-and-optimize-your-model-23d996fab663)\n",
    "  - **Ejemplo 2:** [link](https://www.kaggle.com/code/robikscube/tutorial-time-series-forecasting-with-xgboost)"
   ]
  }
 ],
 "metadata": {
  "kernelspec": {
   "display_name": "Python 3",
   "language": "python",
   "name": "python3"
  },
  "language_info": {
   "codemirror_mode": {
    "name": "ipython",
    "version": 3
   },
   "file_extension": ".py",
   "mimetype": "text/x-python",
   "name": "python",
   "nbconvert_exporter": "python",
   "pygments_lexer": "ipython3",
   "version": "3.8.5"
  }
 },
 "nbformat": 4,
 "nbformat_minor": 5
}
