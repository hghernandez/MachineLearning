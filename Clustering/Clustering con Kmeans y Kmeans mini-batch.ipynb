{
 "cells": [
  {
   "cell_type": "markdown",
   "id": "e003a033",
   "metadata": {},
   "source": [
    "Cuando nuestros datos no tienen etiquetas (por ejemplo 0= Sano, 1= Enfermo), podemos buscar patrones mediante el algoritmos de **Aprendizaje no supervisado**. En esta notebook voy a utilizar K-Means y K-Means Mini-Batch para agrupar los datos de flores del dataset **Iris**. Asimismo, veremos que la bondad del modelo y una comparación de la eficiencia en tiempo lograda con K-Means Mini Batch. "
   ]
  },
  {
   "cell_type": "code",
   "execution_count": null,
   "id": "0527400e",
   "metadata": {},
   "outputs": [],
   "source": []
  }
 ],
 "metadata": {
  "kernelspec": {
   "display_name": "Python 3 (ipykernel)",
   "language": "python",
   "name": "python3"
  },
  "language_info": {
   "codemirror_mode": {
    "name": "ipython",
    "version": 3
   },
   "file_extension": ".py",
   "mimetype": "text/x-python",
   "name": "python",
   "nbconvert_exporter": "python",
   "pygments_lexer": "ipython3",
   "version": "3.9.13"
  }
 },
 "nbformat": 4,
 "nbformat_minor": 5
}
